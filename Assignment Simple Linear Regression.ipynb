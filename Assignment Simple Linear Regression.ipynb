{
 "cells": [
  {
   "cell_type": "markdown",
   "id": "aa9b77cf",
   "metadata": {},
   "source": [
    "# <center>Assignment : Simple Linear Regression</center>"
   ]
  },
  {
   "cell_type": "markdown",
   "id": "efa20e57",
   "metadata": {},
   "source": [
    "__Problem Statement__<br>\n",
    "\n",
    "1) Delivery_time -> Predict delivery time using sorting time <br>\n",
    "2) Salary_hike -> Build a prediction model for Salary_hike<br>\n",
    "\n",
    "__<hr style=\"border:0.5px solid green\">__<br>\n",
    "\n",
    "Build a simple linear regression model by performing EDA and do necessary transformations and select the best model using R or Python."
   ]
  },
  {
   "cell_type": "markdown",
   "id": "455a5aea",
   "metadata": {},
   "source": [
    " ##  I. Delivery_time -> Predict delivery time using sorting time"
   ]
  },
  {
   "cell_type": "code",
   "execution_count": 1,
   "id": "7462d13d",
   "metadata": {
    "ExecuteTime": {
     "end_time": "2022-05-15T19:03:18.505775Z",
     "start_time": "2022-05-15T19:03:17.953122Z"
    }
   },
   "outputs": [],
   "source": [
    "#importing llibraries to read data\n",
    "import pandas as pd\n",
    "\n",
    "data_del_time=pd.read_csv(\"delivery_time.csv\")"
   ]
  },
  {
   "cell_type": "markdown",
   "id": "5a056601",
   "metadata": {
    "ExecuteTime": {
     "end_time": "2022-05-15T17:12:46.919238Z",
     "start_time": "2022-05-15T17:12:46.910621Z"
    }
   },
   "source": [
    "#### Data explore to understand basics of data"
   ]
  },
  {
   "cell_type": "code",
   "execution_count": 2,
   "id": "922ce7e5",
   "metadata": {
    "ExecuteTime": {
     "end_time": "2022-05-15T19:03:18.536380Z",
     "start_time": "2022-05-15T19:03:18.508056Z"
    }
   },
   "outputs": [
    {
     "data": {
      "text/html": [
       "<div>\n",
       "<style scoped>\n",
       "    .dataframe tbody tr th:only-of-type {\n",
       "        vertical-align: middle;\n",
       "    }\n",
       "\n",
       "    .dataframe tbody tr th {\n",
       "        vertical-align: top;\n",
       "    }\n",
       "\n",
       "    .dataframe thead th {\n",
       "        text-align: right;\n",
       "    }\n",
       "</style>\n",
       "<table border=\"1\" class=\"dataframe\">\n",
       "  <thead>\n",
       "    <tr style=\"text-align: right;\">\n",
       "      <th></th>\n",
       "      <th>Delivery Time</th>\n",
       "      <th>Sorting Time</th>\n",
       "    </tr>\n",
       "  </thead>\n",
       "  <tbody>\n",
       "    <tr>\n",
       "      <th>0</th>\n",
       "      <td>21.00</td>\n",
       "      <td>10</td>\n",
       "    </tr>\n",
       "    <tr>\n",
       "      <th>1</th>\n",
       "      <td>13.50</td>\n",
       "      <td>4</td>\n",
       "    </tr>\n",
       "    <tr>\n",
       "      <th>2</th>\n",
       "      <td>19.75</td>\n",
       "      <td>6</td>\n",
       "    </tr>\n",
       "    <tr>\n",
       "      <th>3</th>\n",
       "      <td>24.00</td>\n",
       "      <td>9</td>\n",
       "    </tr>\n",
       "    <tr>\n",
       "      <th>4</th>\n",
       "      <td>29.00</td>\n",
       "      <td>10</td>\n",
       "    </tr>\n",
       "  </tbody>\n",
       "</table>\n",
       "</div>"
      ],
      "text/plain": [
       "   Delivery Time  Sorting Time\n",
       "0          21.00            10\n",
       "1          13.50             4\n",
       "2          19.75             6\n",
       "3          24.00             9\n",
       "4          29.00            10"
      ]
     },
     "execution_count": 2,
     "metadata": {},
     "output_type": "execute_result"
    }
   ],
   "source": [
    "data_del_time.head()"
   ]
  },
  {
   "cell_type": "markdown",
   "id": "f6885b4a",
   "metadata": {
    "ExecuteTime": {
     "end_time": "2022-05-15T17:14:00.129095Z",
     "start_time": "2022-05-15T17:14:00.118930Z"
    }
   },
   "source": [
    "##### data set has two columns Delivery time and sorting time, we are supposed to predict delivey time based on sorting time"
   ]
  },
  {
   "cell_type": "code",
   "execution_count": 3,
   "id": "15e13693",
   "metadata": {
    "ExecuteTime": {
     "end_time": "2022-05-15T19:03:18.552308Z",
     "start_time": "2022-05-15T19:03:18.537882Z"
    }
   },
   "outputs": [
    {
     "data": {
      "text/plain": [
       "(21, 2)"
      ]
     },
     "execution_count": 3,
     "metadata": {},
     "output_type": "execute_result"
    }
   ],
   "source": [
    "# number of rows and columns\n",
    "data_del_time.shape"
   ]
  },
  {
   "cell_type": "markdown",
   "id": "97152f8f",
   "metadata": {},
   "source": [
    "##### data set has 21 rows and 2 columns"
   ]
  },
  {
   "cell_type": "code",
   "execution_count": 4,
   "id": "fba72971",
   "metadata": {
    "ExecuteTime": {
     "end_time": "2022-05-15T19:03:18.567788Z",
     "start_time": "2022-05-15T19:03:18.556305Z"
    }
   },
   "outputs": [],
   "source": [
    "# getting basic info on data"
   ]
  },
  {
   "cell_type": "code",
   "execution_count": 5,
   "id": "1493239d",
   "metadata": {
    "ExecuteTime": {
     "end_time": "2022-05-15T19:03:18.599359Z",
     "start_time": "2022-05-15T19:03:18.570152Z"
    }
   },
   "outputs": [
    {
     "name": "stdout",
     "output_type": "stream",
     "text": [
      "<class 'pandas.core.frame.DataFrame'>\n",
      "RangeIndex: 21 entries, 0 to 20\n",
      "Data columns (total 2 columns):\n",
      " #   Column         Non-Null Count  Dtype  \n",
      "---  ------         --------------  -----  \n",
      " 0   Delivery Time  21 non-null     float64\n",
      " 1   Sorting Time   21 non-null     int64  \n",
      "dtypes: float64(1), int64(1)\n",
      "memory usage: 464.0 bytes\n"
     ]
    }
   ],
   "source": [
    "data_del_time.info()"
   ]
  },
  {
   "cell_type": "markdown",
   "id": "1afd9853",
   "metadata": {},
   "source": [
    "##### there are no null values, data type for Delivery time is float and for sorting is integer"
   ]
  },
  {
   "cell_type": "code",
   "execution_count": 6,
   "id": "a212c006",
   "metadata": {
    "ExecuteTime": {
     "end_time": "2022-05-15T19:03:18.649538Z",
     "start_time": "2022-05-15T19:03:18.600349Z"
    }
   },
   "outputs": [
    {
     "data": {
      "text/html": [
       "<div>\n",
       "<style scoped>\n",
       "    .dataframe tbody tr th:only-of-type {\n",
       "        vertical-align: middle;\n",
       "    }\n",
       "\n",
       "    .dataframe tbody tr th {\n",
       "        vertical-align: top;\n",
       "    }\n",
       "\n",
       "    .dataframe thead th {\n",
       "        text-align: right;\n",
       "    }\n",
       "</style>\n",
       "<table border=\"1\" class=\"dataframe\">\n",
       "  <thead>\n",
       "    <tr style=\"text-align: right;\">\n",
       "      <th></th>\n",
       "      <th>Delivery Time</th>\n",
       "      <th>Sorting Time</th>\n",
       "    </tr>\n",
       "  </thead>\n",
       "  <tbody>\n",
       "    <tr>\n",
       "      <th>count</th>\n",
       "      <td>21.000000</td>\n",
       "      <td>21.000000</td>\n",
       "    </tr>\n",
       "    <tr>\n",
       "      <th>mean</th>\n",
       "      <td>16.790952</td>\n",
       "      <td>6.190476</td>\n",
       "    </tr>\n",
       "    <tr>\n",
       "      <th>std</th>\n",
       "      <td>5.074901</td>\n",
       "      <td>2.542028</td>\n",
       "    </tr>\n",
       "    <tr>\n",
       "      <th>min</th>\n",
       "      <td>8.000000</td>\n",
       "      <td>2.000000</td>\n",
       "    </tr>\n",
       "    <tr>\n",
       "      <th>25%</th>\n",
       "      <td>13.500000</td>\n",
       "      <td>4.000000</td>\n",
       "    </tr>\n",
       "    <tr>\n",
       "      <th>50%</th>\n",
       "      <td>17.830000</td>\n",
       "      <td>6.000000</td>\n",
       "    </tr>\n",
       "    <tr>\n",
       "      <th>75%</th>\n",
       "      <td>19.750000</td>\n",
       "      <td>8.000000</td>\n",
       "    </tr>\n",
       "    <tr>\n",
       "      <th>max</th>\n",
       "      <td>29.000000</td>\n",
       "      <td>10.000000</td>\n",
       "    </tr>\n",
       "  </tbody>\n",
       "</table>\n",
       "</div>"
      ],
      "text/plain": [
       "       Delivery Time  Sorting Time\n",
       "count      21.000000     21.000000\n",
       "mean       16.790952      6.190476\n",
       "std         5.074901      2.542028\n",
       "min         8.000000      2.000000\n",
       "25%        13.500000      4.000000\n",
       "50%        17.830000      6.000000\n",
       "75%        19.750000      8.000000\n",
       "max        29.000000     10.000000"
      ]
     },
     "execution_count": 6,
     "metadata": {},
     "output_type": "execute_result"
    }
   ],
   "source": [
    "# getting basics statistical information on data set\n",
    "data_del_time.describe()"
   ]
  },
  {
   "cell_type": "markdown",
   "id": "ace51c86",
   "metadata": {},
   "source": [
    "##### statistical information we get:<br>\n",
    "__for Delivery Time__<br>\n",
    "- 1st quartile: 13.5\n",
    "- 3rd quartile: 19.7\n",
    "- Min value: 8.0\n",
    "- Max value: 29.00\n",
    "- IQR: 19.7-13.5 = 6.2\n",
    "- mean: 16.79\n",
    "- std: 5.07\n",
    "<br>\n",
    "\n",
    "__for Sorting Time__<br>\n",
    "- 1st quartile: 4\n",
    "- 3rd quartile: 8\n",
    "- Min value: 2\n",
    "- Max value: 10\n",
    "- IQR: 8-4 =4\n",
    "- mean:6.19\n",
    "- std: 5.54"
   ]
  },
  {
   "cell_type": "code",
   "execution_count": 7,
   "id": "b8eb9038",
   "metadata": {
    "ExecuteTime": {
     "end_time": "2022-05-15T19:03:18.677382Z",
     "start_time": "2022-05-15T19:03:18.653373Z"
    }
   },
   "outputs": [
    {
     "data": {
      "text/html": [
       "<div>\n",
       "<style scoped>\n",
       "    .dataframe tbody tr th:only-of-type {\n",
       "        vertical-align: middle;\n",
       "    }\n",
       "\n",
       "    .dataframe tbody tr th {\n",
       "        vertical-align: top;\n",
       "    }\n",
       "\n",
       "    .dataframe thead th {\n",
       "        text-align: right;\n",
       "    }\n",
       "</style>\n",
       "<table border=\"1\" class=\"dataframe\">\n",
       "  <thead>\n",
       "    <tr style=\"text-align: right;\">\n",
       "      <th></th>\n",
       "      <th>Delivery_Time</th>\n",
       "      <th>Sorting_Time</th>\n",
       "    </tr>\n",
       "  </thead>\n",
       "  <tbody>\n",
       "    <tr>\n",
       "      <th>0</th>\n",
       "      <td>21.00</td>\n",
       "      <td>10</td>\n",
       "    </tr>\n",
       "    <tr>\n",
       "      <th>1</th>\n",
       "      <td>13.50</td>\n",
       "      <td>4</td>\n",
       "    </tr>\n",
       "    <tr>\n",
       "      <th>2</th>\n",
       "      <td>19.75</td>\n",
       "      <td>6</td>\n",
       "    </tr>\n",
       "    <tr>\n",
       "      <th>3</th>\n",
       "      <td>24.00</td>\n",
       "      <td>9</td>\n",
       "    </tr>\n",
       "    <tr>\n",
       "      <th>4</th>\n",
       "      <td>29.00</td>\n",
       "      <td>10</td>\n",
       "    </tr>\n",
       "  </tbody>\n",
       "</table>\n",
       "</div>"
      ],
      "text/plain": [
       "   Delivery_Time  Sorting_Time\n",
       "0          21.00            10\n",
       "1          13.50             4\n",
       "2          19.75             6\n",
       "3          24.00             9\n",
       "4          29.00            10"
      ]
     },
     "execution_count": 7,
     "metadata": {},
     "output_type": "execute_result"
    }
   ],
   "source": [
    "# changing column names Delivery time to Delivery_time and Sorting time to Sorting_time\n",
    "data_del_time.rename(columns={'Delivery Time':\"Delivery_Time\",\"Sorting Time\":\"Sorting_Time\"}, inplace=True)\n",
    "data_del_time.head()"
   ]
  },
  {
   "cell_type": "code",
   "execution_count": 8,
   "id": "be1629c5",
   "metadata": {
    "ExecuteTime": {
     "end_time": "2022-05-15T19:03:19.180481Z",
     "start_time": "2022-05-15T19:03:18.682507Z"
    }
   },
   "outputs": [
    {
     "data": {
      "text/plain": [
       "Text(0, 0.5, 'Delivery Time')"
      ]
     },
     "execution_count": 8,
     "metadata": {},
     "output_type": "execute_result"
    },
    {
     "data": {
      "image/png": "[encoded data removed]",
      "text/plain": [
       "<Figure size 432x288 with 1 Axes>"
      ]
     },
     "metadata": {
      "needs_background": "light"
     },
     "output_type": "display_data"
    }
   ],
   "source": [
    "# creating scatter plot to see if there is any linear relation between Sorting time and Delivery time\n",
    "#importing matplot library\n",
    "import matplotlib.pyplot as plt\n",
    "\n",
    "plt.plot(data_del_time['Sorting_Time'], data_del_time['Delivery_Time'], \"bo\")\n",
    "plt.xlabel(\"Sorting time\")\n",
    "plt.ylabel(\"Delivery Time\")"
   ]
  },
  {
   "cell_type": "markdown",
   "id": "c30968a1",
   "metadata": {},
   "source": [
    "#### there is strong positive relation between between Sorting_Time and Delivery_Time"
   ]
  },
  {
   "cell_type": "code",
   "execution_count": 9,
   "id": "8686eaef",
   "metadata": {
    "ExecuteTime": {
     "end_time": "2022-05-15T19:03:19.196176Z",
     "start_time": "2022-05-15T19:03:19.182869Z"
    }
   },
   "outputs": [
    {
     "data": {
      "text/html": [
       "<div>\n",
       "<style scoped>\n",
       "    .dataframe tbody tr th:only-of-type {\n",
       "        vertical-align: middle;\n",
       "    }\n",
       "\n",
       "    .dataframe tbody tr th {\n",
       "        vertical-align: top;\n",
       "    }\n",
       "\n",
       "    .dataframe thead th {\n",
       "        text-align: right;\n",
       "    }\n",
       "</style>\n",
       "<table border=\"1\" class=\"dataframe\">\n",
       "  <thead>\n",
       "    <tr style=\"text-align: right;\">\n",
       "      <th></th>\n",
       "      <th>Delivery_Time</th>\n",
       "      <th>Sorting_Time</th>\n",
       "    </tr>\n",
       "  </thead>\n",
       "  <tbody>\n",
       "    <tr>\n",
       "      <th>Delivery_Time</th>\n",
       "      <td>1.000000</td>\n",
       "      <td>0.825997</td>\n",
       "    </tr>\n",
       "    <tr>\n",
       "      <th>Sorting_Time</th>\n",
       "      <td>0.825997</td>\n",
       "      <td>1.000000</td>\n",
       "    </tr>\n",
       "  </tbody>\n",
       "</table>\n",
       "</div>"
      ],
      "text/plain": [
       "               Delivery_Time  Sorting_Time\n",
       "Delivery_Time       1.000000      0.825997\n",
       "Sorting_Time        0.825997      1.000000"
      ]
     },
     "execution_count": 9,
     "metadata": {},
     "output_type": "execute_result"
    }
   ],
   "source": [
    "#check correlation between Sorting_Time and Delivery_Time\n",
    "data_del_time.corr()"
   ]
  },
  {
   "cell_type": "markdown",
   "id": "6146e535",
   "metadata": {
    "ExecuteTime": {
     "end_time": "2022-05-15T17:32:53.750540Z",
     "start_time": "2022-05-15T17:32:53.731041Z"
    }
   },
   "source": [
    "#### the correlation is + 0.826 i.e. there strong correlation of 82.6% between Sorting_Time and Delivery_Time"
   ]
  },
  {
   "cell_type": "markdown",
   "id": "1746cd37",
   "metadata": {},
   "source": [
    "### Check more on data using distirbution plot from seaborn"
   ]
  },
  {
   "cell_type": "code",
   "execution_count": 10,
   "id": "cea06823",
   "metadata": {
    "ExecuteTime": {
     "end_time": "2022-05-15T19:03:19.855359Z",
     "start_time": "2022-05-15T19:03:19.199467Z"
    }
   },
   "outputs": [
    {
     "name": "stderr",
     "output_type": "stream",
     "text": [
      "C:\\ProgramData\\Anaconda3\\lib\\site-packages\\seaborn\\distributions.py:2619: FutureWarning: `distplot` is a deprecated function and will be removed in a future version. Please adapt your code to use either `displot` (a figure-level function with similar flexibility) or `histplot` (an axes-level function for histograms).\n",
      "  warnings.warn(msg, FutureWarning)\n"
     ]
    },
    {
     "data": {
      "text/plain": [
       "<AxesSubplot:xlabel='Sorting_Time', ylabel='Density'>"
      ]
     },
     "execution_count": 10,
     "metadata": {},
     "output_type": "execute_result"
    },
    {
     "data": {
      "image/png": "[encoded data removed]",
      "text/plain": [
       "<Figure size 432x288 with 1 Axes>"
      ]
     },
     "metadata": {
      "needs_background": "light"
     },
     "output_type": "display_data"
    }
   ],
   "source": [
    "import seaborn as sns\n",
    "\n",
    "sns.distplot(data_del_time['Sorting_Time'])"
   ]
  },
  {
   "cell_type": "markdown",
   "id": "1607c83b",
   "metadata": {
    "ExecuteTime": {
     "end_time": "2022-05-15T17:40:50.911996Z",
     "start_time": "2022-05-15T17:40:50.894880Z"
    }
   },
   "source": [
    "#### for sorting time: we notice that 50% of data is between 4 and 8 and has no tails."
   ]
  },
  {
   "cell_type": "code",
   "execution_count": 11,
   "id": "acc364dd",
   "metadata": {
    "ExecuteTime": {
     "end_time": "2022-05-15T19:03:19.997403Z",
     "start_time": "2022-05-15T19:03:19.857736Z"
    }
   },
   "outputs": [
    {
     "name": "stderr",
     "output_type": "stream",
     "text": [
      "C:\\ProgramData\\Anaconda3\\lib\\site-packages\\seaborn\\distributions.py:2619: FutureWarning: `distplot` is a deprecated function and will be removed in a future version. Please adapt your code to use either `displot` (a figure-level function with similar flexibility) or `histplot` (an axes-level function for histograms).\n",
      "  warnings.warn(msg, FutureWarning)\n"
     ]
    },
    {
     "data": {
      "text/plain": [
       "<AxesSubplot:xlabel='Delivery_Time', ylabel='Density'>"
      ]
     },
     "execution_count": 11,
     "metadata": {},
     "output_type": "execute_result"
    },
    {
     "data": {
      "image/png": "[encoded data removed]",
      "text/plain": [
       "<Figure size 432x288 with 1 Axes>"
      ]
     },
     "metadata": {
      "needs_background": "light"
     },
     "output_type": "display_data"
    }
   ],
   "source": [
    "sns.distplot(data_del_time['Delivery_Time'])"
   ]
  },
  {
   "cell_type": "markdown",
   "id": "01e24122",
   "metadata": {
    "ExecuteTime": {
     "end_time": "2022-05-15T17:42:59.711335Z",
     "start_time": "2022-05-15T17:42:59.696005Z"
    }
   },
   "source": [
    "#### for sorting time: we notice that 50% of data is between 10 and 20 and as per statis information ealier it should be beteen 13.5 and 19.7"
   ]
  },
  {
   "cell_type": "markdown",
   "id": "a0346f0f",
   "metadata": {},
   "source": [
    "__Fitting a Linear Regression Model__"
   ]
  },
  {
   "cell_type": "code",
   "execution_count": 12,
   "id": "cbf068a2",
   "metadata": {
    "ExecuteTime": {
     "end_time": "2022-05-15T19:03:20.122954Z",
     "start_time": "2022-05-15T19:03:19.999374Z"
    }
   },
   "outputs": [],
   "source": [
    "import statsmodels.formula.api as smf\n",
    "deliver_time_model = smf.ols(\"Delivery_Time~Sorting_Time\",data = data_del_time).fit()"
   ]
  },
  {
   "cell_type": "code",
   "execution_count": 13,
   "id": "866bedaf",
   "metadata": {
    "ExecuteTime": {
     "end_time": "2022-05-15T19:03:20.341128Z",
     "start_time": "2022-05-15T19:03:20.124714Z"
    }
   },
   "outputs": [
    {
     "data": {
      "text/plain": [
       "<AxesSubplot:xlabel='Sorting_Time', ylabel='Delivery_Time'>"
      ]
     },
     "execution_count": 13,
     "metadata": {},
     "output_type": "execute_result"
    },
    {
     "data": {
      "image/png": "[encoded data removed]",
      "text/plain": [
       "<Figure size 432x288 with 1 Axes>"
      ]
     },
     "metadata": {
      "needs_background": "light"
     },
     "output_type": "display_data"
    }
   ],
   "source": [
    "#creating regression plot\n",
    "\n",
    "sns.regplot(x=\"Sorting_Time\", y=\"Delivery_Time\", data=data_del_time)"
   ]
  },
  {
   "cell_type": "markdown",
   "id": "ac90e991",
   "metadata": {
    "ExecuteTime": {
     "end_time": "2022-05-15T17:48:04.865054Z",
     "start_time": "2022-05-15T17:48:04.855946Z"
    }
   },
   "source": [
    "#### regression plot showing positive regression between Sorting_Time and Delivery_Time"
   ]
  },
  {
   "cell_type": "code",
   "execution_count": 14,
   "id": "ee684e16",
   "metadata": {
    "ExecuteTime": {
     "end_time": "2022-05-15T19:03:20.372446Z",
     "start_time": "2022-05-15T19:03:20.342126Z"
    }
   },
   "outputs": [
    {
     "data": {
      "text/html": [
       "<table class=\"simpletable\">\n",
       "<caption>OLS Regression Results</caption>\n",
       "<tr>\n",
       "  <th>Dep. Variable:</th>      <td>Delivery_Time</td>  <th>  R-squared:         </th> <td>   0.682</td>\n",
       "</tr>\n",
       "<tr>\n",
       "  <th>Model:</th>                   <td>OLS</td>       <th>  Adj. R-squared:    </th> <td>   0.666</td>\n",
       "</tr>\n",
       "<tr>\n",
       "  <th>Method:</th>             <td>Least Squares</td>  <th>  F-statistic:       </th> <td>   40.80</td>\n",
       "</tr>\n",
       "<tr>\n",
       "  <th>Date:</th>             <td>Mon, 16 May 2022</td> <th>  Prob (F-statistic):</th> <td>3.98e-06</td>\n",
       "</tr>\n",
       "<tr>\n",
       "  <th>Time:</th>                 <td>00:33:20</td>     <th>  Log-Likelihood:    </th> <td> -51.357</td>\n",
       "</tr>\n",
       "<tr>\n",
       "  <th>No. Observations:</th>      <td>    21</td>      <th>  AIC:               </th> <td>   106.7</td>\n",
       "</tr>\n",
       "<tr>\n",
       "  <th>Df Residuals:</th>          <td>    19</td>      <th>  BIC:               </th> <td>   108.8</td>\n",
       "</tr>\n",
       "<tr>\n",
       "  <th>Df Model:</th>              <td>     1</td>      <th>                     </th>     <td> </td>   \n",
       "</tr>\n",
       "<tr>\n",
       "  <th>Covariance Type:</th>      <td>nonrobust</td>    <th>                     </th>     <td> </td>   \n",
       "</tr>\n",
       "</table>\n",
       "<table class=\"simpletable\">\n",
       "<tr>\n",
       "        <td></td>          <th>coef</th>     <th>std err</th>      <th>t</th>      <th>P>|t|</th>  <th>[0.025</th>    <th>0.975]</th>  \n",
       "</tr>\n",
       "<tr>\n",
       "  <th>Intercept</th>    <td>    6.5827</td> <td>    1.722</td> <td>    3.823</td> <td> 0.001</td> <td>    2.979</td> <td>   10.186</td>\n",
       "</tr>\n",
       "<tr>\n",
       "  <th>Sorting_Time</th> <td>    1.6490</td> <td>    0.258</td> <td>    6.387</td> <td> 0.000</td> <td>    1.109</td> <td>    2.189</td>\n",
       "</tr>\n",
       "</table>\n",
       "<table class=\"simpletable\">\n",
       "<tr>\n",
       "  <th>Omnibus:</th>       <td> 3.649</td> <th>  Durbin-Watson:     </th> <td>   1.248</td>\n",
       "</tr>\n",
       "<tr>\n",
       "  <th>Prob(Omnibus):</th> <td> 0.161</td> <th>  Jarque-Bera (JB):  </th> <td>   2.086</td>\n",
       "</tr>\n",
       "<tr>\n",
       "  <th>Skew:</th>          <td> 0.750</td> <th>  Prob(JB):          </th> <td>   0.352</td>\n",
       "</tr>\n",
       "<tr>\n",
       "  <th>Kurtosis:</th>      <td> 3.367</td> <th>  Cond. No.          </th> <td>    18.3</td>\n",
       "</tr>\n",
       "</table><br/><br/>Notes:<br/>[1] Standard Errors assume that the covariance matrix of the errors is correctly specified."
      ],
      "text/plain": [
       "<class 'statsmodels.iolib.summary.Summary'>\n",
       "\"\"\"\n",
       "                            OLS Regression Results                            \n",
       "==============================================================================\n",
       "Dep. Variable:          Delivery_Time   R-squared:                       0.682\n",
       "Model:                            OLS   Adj. R-squared:                  0.666\n",
       "Method:                 Least Squares   F-statistic:                     40.80\n",
       "Date:                Mon, 16 May 2022   Prob (F-statistic):           3.98e-06\n",
       "Time:                        00:33:20   Log-Likelihood:                -51.357\n",
       "No. Observations:                  21   AIC:                             106.7\n",
       "Df Residuals:                      19   BIC:                             108.8\n",
       "Df Model:                           1                                         \n",
       "Covariance Type:            nonrobust                                         \n",
       "================================================================================\n",
       "                   coef    std err          t      P>|t|      [0.025      0.975]\n",
       "--------------------------------------------------------------------------------\n",
       "Intercept        6.5827      1.722      3.823      0.001       2.979      10.186\n",
       "Sorting_Time     1.6490      0.258      6.387      0.000       1.109       2.189\n",
       "==============================================================================\n",
       "Omnibus:                        3.649   Durbin-Watson:                   1.248\n",
       "Prob(Omnibus):                  0.161   Jarque-Bera (JB):                2.086\n",
       "Skew:                           0.750   Prob(JB):                        0.352\n",
       "Kurtosis:                       3.367   Cond. No.                         18.3\n",
       "==============================================================================\n",
       "\n",
       "Notes:\n",
       "[1] Standard Errors assume that the covariance matrix of the errors is correctly specified.\n",
       "\"\"\""
      ]
     },
     "execution_count": 14,
     "metadata": {},
     "output_type": "execute_result"
    }
   ],
   "source": [
    "#get all results of Simple linear fit\n",
    "deliver_time_model.summary()"
   ]
  },
  {
   "cell_type": "markdown",
   "id": "643dfa46",
   "metadata": {},
   "source": [
    "__Results Summary__<br>\n",
    "__beta0__  is 6.5827<br>\n",
    "__beta1__ is 6.5827<br>\n",
    "__R-Squared__ is 0.682 indicates __model is 68.2% accurate__<br>\n",
    "__Degree of freem for errors(DFResidual)__ is 19<br>\n",
    "__degree of freedom for modelel__ is 1<br>\n",
    "__P value__ is 0.00 (is less than 0.05) meaning this __is siginifcant parameter__ for Sorting_Time"
   ]
  },
  {
   "cell_type": "markdown",
   "id": "a037a014",
   "metadata": {},
   "source": [
    "# Predict for new data point"
   ]
  },
  {
   "cell_type": "code",
   "execution_count": 15,
   "id": "c8baa195",
   "metadata": {
    "ExecuteTime": {
     "end_time": "2022-05-15T19:03:20.388166Z",
     "start_time": "2022-05-15T19:03:20.373952Z"
    }
   },
   "outputs": [],
   "source": [
    "#Predict for 200 and 300 daily circulation\n",
    "newdata=pd.Series([7,12])"
   ]
  },
  {
   "cell_type": "code",
   "execution_count": 16,
   "id": "da9c3b4f",
   "metadata": {
    "ExecuteTime": {
     "end_time": "2022-05-15T19:03:20.403803Z",
     "start_time": "2022-05-15T19:03:20.390065Z"
    }
   },
   "outputs": [],
   "source": [
    "data_pred=pd.DataFrame(newdata,columns=['Sorting_Time'])"
   ]
  },
  {
   "cell_type": "code",
   "execution_count": 17,
   "id": "4aa60df7",
   "metadata": {
    "ExecuteTime": {
     "end_time": "2022-05-15T19:03:20.419411Z",
     "start_time": "2022-05-15T19:03:20.405789Z"
    }
   },
   "outputs": [
    {
     "data": {
      "text/html": [
       "<div>\n",
       "<style scoped>\n",
       "    .dataframe tbody tr th:only-of-type {\n",
       "        vertical-align: middle;\n",
       "    }\n",
       "\n",
       "    .dataframe tbody tr th {\n",
       "        vertical-align: top;\n",
       "    }\n",
       "\n",
       "    .dataframe thead th {\n",
       "        text-align: right;\n",
       "    }\n",
       "</style>\n",
       "<table border=\"1\" class=\"dataframe\">\n",
       "  <thead>\n",
       "    <tr style=\"text-align: right;\">\n",
       "      <th></th>\n",
       "      <th>Sorting_Time</th>\n",
       "    </tr>\n",
       "  </thead>\n",
       "  <tbody>\n",
       "    <tr>\n",
       "      <th>0</th>\n",
       "      <td>7</td>\n",
       "    </tr>\n",
       "    <tr>\n",
       "      <th>1</th>\n",
       "      <td>12</td>\n",
       "    </tr>\n",
       "  </tbody>\n",
       "</table>\n",
       "</div>"
      ],
      "text/plain": [
       "   Sorting_Time\n",
       "0             7\n",
       "1            12"
      ]
     },
     "execution_count": 17,
     "metadata": {},
     "output_type": "execute_result"
    }
   ],
   "source": [
    "data_pred.head()"
   ]
  },
  {
   "cell_type": "code",
   "execution_count": 18,
   "id": "c6a533e9",
   "metadata": {
    "ExecuteTime": {
     "end_time": "2022-05-15T19:03:20.434792Z",
     "start_time": "2022-05-15T19:03:20.420409Z"
    }
   },
   "outputs": [
    {
     "data": {
      "text/plain": [
       "0    18.125873\n",
       "1    26.370973\n",
       "dtype: float64"
      ]
     },
     "execution_count": 18,
     "metadata": {},
     "output_type": "execute_result"
    }
   ],
   "source": [
    "deliver_time_model.predict(data_pred)"
   ]
  },
  {
   "cell_type": "markdown",
   "id": "32148600",
   "metadata": {},
   "source": [
    "#### Results:<br>\n",
    "1. for __Sorting Time : 7__, the __Delivery Time: 18.1__\n",
    "2. for __Sorting Time : 12__,the __Delivery Time: 26.3__"
   ]
  },
  {
   "cell_type": "markdown",
   "id": "b3be8f32",
   "metadata": {},
   "source": [
    " ## II Salary_hike -> Build a prediction model for Salary_hike"
   ]
  },
  {
   "cell_type": "code",
   "execution_count": 19,
   "id": "be0f35df",
   "metadata": {
    "ExecuteTime": {
     "end_time": "2022-05-15T19:03:20.465544Z",
     "start_time": "2022-05-15T19:03:20.437330Z"
    }
   },
   "outputs": [],
   "source": [
    "# reading salaries data\n",
    "data_salary=pd.read_csv(\"Salary_Data.csv\")"
   ]
  },
  {
   "cell_type": "markdown",
   "id": "d5ec17b0",
   "metadata": {},
   "source": [
    "#### Data explore to understand basics of data"
   ]
  },
  {
   "cell_type": "code",
   "execution_count": 20,
   "id": "2fc6a1dc",
   "metadata": {
    "ExecuteTime": {
     "end_time": "2022-05-15T19:03:20.480850Z",
     "start_time": "2022-05-15T19:03:20.466533Z"
    }
   },
   "outputs": [
    {
     "data": {
      "text/html": [
       "<div>\n",
       "<style scoped>\n",
       "    .dataframe tbody tr th:only-of-type {\n",
       "        vertical-align: middle;\n",
       "    }\n",
       "\n",
       "    .dataframe tbody tr th {\n",
       "        vertical-align: top;\n",
       "    }\n",
       "\n",
       "    .dataframe thead th {\n",
       "        text-align: right;\n",
       "    }\n",
       "</style>\n",
       "<table border=\"1\" class=\"dataframe\">\n",
       "  <thead>\n",
       "    <tr style=\"text-align: right;\">\n",
       "      <th></th>\n",
       "      <th>YearsExperience</th>\n",
       "      <th>Salary</th>\n",
       "    </tr>\n",
       "  </thead>\n",
       "  <tbody>\n",
       "    <tr>\n",
       "      <th>0</th>\n",
       "      <td>1.1</td>\n",
       "      <td>39343.0</td>\n",
       "    </tr>\n",
       "    <tr>\n",
       "      <th>1</th>\n",
       "      <td>1.3</td>\n",
       "      <td>46205.0</td>\n",
       "    </tr>\n",
       "    <tr>\n",
       "      <th>2</th>\n",
       "      <td>1.5</td>\n",
       "      <td>37731.0</td>\n",
       "    </tr>\n",
       "    <tr>\n",
       "      <th>3</th>\n",
       "      <td>2.0</td>\n",
       "      <td>43525.0</td>\n",
       "    </tr>\n",
       "    <tr>\n",
       "      <th>4</th>\n",
       "      <td>2.2</td>\n",
       "      <td>39891.0</td>\n",
       "    </tr>\n",
       "  </tbody>\n",
       "</table>\n",
       "</div>"
      ],
      "text/plain": [
       "   YearsExperience   Salary\n",
       "0              1.1  39343.0\n",
       "1              1.3  46205.0\n",
       "2              1.5  37731.0\n",
       "3              2.0  43525.0\n",
       "4              2.2  39891.0"
      ]
     },
     "execution_count": 20,
     "metadata": {},
     "output_type": "execute_result"
    }
   ],
   "source": [
    "data_salary.head()"
   ]
  },
  {
   "cell_type": "markdown",
   "id": "5cc7ffa0",
   "metadata": {},
   "source": [
    "#### Dataset has two columns YearsExperience and Salary, we need to build simple liner model to predict salary hike based on yearsExperience"
   ]
  },
  {
   "cell_type": "code",
   "execution_count": 21,
   "id": "984fb119",
   "metadata": {
    "ExecuteTime": {
     "end_time": "2022-05-15T19:03:20.496309Z",
     "start_time": "2022-05-15T19:03:20.482955Z"
    }
   },
   "outputs": [
    {
     "data": {
      "text/plain": [
       "(30, 2)"
      ]
     },
     "execution_count": 21,
     "metadata": {},
     "output_type": "execute_result"
    }
   ],
   "source": [
    "# data shape to check number of rows and coulms\n",
    "data_salary.shape"
   ]
  },
  {
   "cell_type": "markdown",
   "id": "bd1b62b4",
   "metadata": {
    "ExecuteTime": {
     "end_time": "2022-05-15T18:35:22.610224Z",
     "start_time": "2022-05-15T18:35:22.596965Z"
    }
   },
   "source": [
    "#### dataset has 30 rows and 2 columns"
   ]
  },
  {
   "cell_type": "code",
   "execution_count": 22,
   "id": "fd9e7fd1",
   "metadata": {
    "ExecuteTime": {
     "end_time": "2022-05-15T19:03:20.511408Z",
     "start_time": "2022-05-15T19:03:20.499293Z"
    }
   },
   "outputs": [
    {
     "name": "stdout",
     "output_type": "stream",
     "text": [
      "<class 'pandas.core.frame.DataFrame'>\n",
      "RangeIndex: 30 entries, 0 to 29\n",
      "Data columns (total 2 columns):\n",
      " #   Column           Non-Null Count  Dtype  \n",
      "---  ------           --------------  -----  \n",
      " 0   YearsExperience  30 non-null     float64\n",
      " 1   Salary           30 non-null     float64\n",
      "dtypes: float64(2)\n",
      "memory usage: 608.0 bytes\n"
     ]
    }
   ],
   "source": [
    "# getting basic info on data\n",
    "data_salary.info()"
   ]
  },
  {
   "cell_type": "markdown",
   "id": "ad2bf3e4",
   "metadata": {
    "ExecuteTime": {
     "end_time": "2022-05-15T18:36:21.231918Z",
     "start_time": "2022-05-15T18:36:21.222099Z"
    }
   },
   "source": [
    "#### there are no null values and both columns have data types as float"
   ]
  },
  {
   "cell_type": "code",
   "execution_count": 23,
   "id": "1be9bcd0",
   "metadata": {
    "ExecuteTime": {
     "end_time": "2022-05-15T19:03:20.542027Z",
     "start_time": "2022-05-15T19:03:20.515414Z"
    }
   },
   "outputs": [
    {
     "data": {
      "text/html": [
       "<div>\n",
       "<style scoped>\n",
       "    .dataframe tbody tr th:only-of-type {\n",
       "        vertical-align: middle;\n",
       "    }\n",
       "\n",
       "    .dataframe tbody tr th {\n",
       "        vertical-align: top;\n",
       "    }\n",
       "\n",
       "    .dataframe thead th {\n",
       "        text-align: right;\n",
       "    }\n",
       "</style>\n",
       "<table border=\"1\" class=\"dataframe\">\n",
       "  <thead>\n",
       "    <tr style=\"text-align: right;\">\n",
       "      <th></th>\n",
       "      <th>YearsExperience</th>\n",
       "      <th>Salary</th>\n",
       "    </tr>\n",
       "  </thead>\n",
       "  <tbody>\n",
       "    <tr>\n",
       "      <th>count</th>\n",
       "      <td>30.000000</td>\n",
       "      <td>30.000000</td>\n",
       "    </tr>\n",
       "    <tr>\n",
       "      <th>mean</th>\n",
       "      <td>5.313333</td>\n",
       "      <td>76003.000000</td>\n",
       "    </tr>\n",
       "    <tr>\n",
       "      <th>std</th>\n",
       "      <td>2.837888</td>\n",
       "      <td>27414.429785</td>\n",
       "    </tr>\n",
       "    <tr>\n",
       "      <th>min</th>\n",
       "      <td>1.100000</td>\n",
       "      <td>37731.000000</td>\n",
       "    </tr>\n",
       "    <tr>\n",
       "      <th>25%</th>\n",
       "      <td>3.200000</td>\n",
       "      <td>56720.750000</td>\n",
       "    </tr>\n",
       "    <tr>\n",
       "      <th>50%</th>\n",
       "      <td>4.700000</td>\n",
       "      <td>65237.000000</td>\n",
       "    </tr>\n",
       "    <tr>\n",
       "      <th>75%</th>\n",
       "      <td>7.700000</td>\n",
       "      <td>100544.750000</td>\n",
       "    </tr>\n",
       "    <tr>\n",
       "      <th>max</th>\n",
       "      <td>10.500000</td>\n",
       "      <td>122391.000000</td>\n",
       "    </tr>\n",
       "  </tbody>\n",
       "</table>\n",
       "</div>"
      ],
      "text/plain": [
       "       YearsExperience         Salary\n",
       "count        30.000000      30.000000\n",
       "mean          5.313333   76003.000000\n",
       "std           2.837888   27414.429785\n",
       "min           1.100000   37731.000000\n",
       "25%           3.200000   56720.750000\n",
       "50%           4.700000   65237.000000\n",
       "75%           7.700000  100544.750000\n",
       "max          10.500000  122391.000000"
      ]
     },
     "execution_count": 23,
     "metadata": {},
     "output_type": "execute_result"
    }
   ],
   "source": [
    "# getting statistical info on data\n",
    "data_salary.describe()"
   ]
  },
  {
   "cell_type": "markdown",
   "id": "38b9f060",
   "metadata": {},
   "source": [
    "##### statistical information we get:<br>\n",
    "__for YearsExperience__<br>\n",
    "- 1st quartile: 3.2\n",
    "- 3rd quartile: 7.7\n",
    "- Min value: 1.1\n",
    "- Max value: 10.5\n",
    "- mean: 5.31\n",
    "- std: 2.84\n",
    "<br>\n",
    "\n",
    "__for Salary__<br>\n",
    "- 1st quartile: 56720.75\n",
    "- 3rd quartile: 100544.75\n",
    "- Min value: 37731.00\n",
    "- Max value: 122391.00\n",
    "- mean:76003.00\n",
    "- std: 27414.43"
   ]
  },
  {
   "cell_type": "code",
   "execution_count": 24,
   "id": "9c9bd106",
   "metadata": {
    "ExecuteTime": {
     "end_time": "2022-05-15T19:03:20.668585Z",
     "start_time": "2022-05-15T19:03:20.543879Z"
    }
   },
   "outputs": [
    {
     "data": {
      "text/plain": [
       "Text(0, 0.5, 'Salary')"
      ]
     },
     "execution_count": 24,
     "metadata": {},
     "output_type": "execute_result"
    },
    {
     "data": {
      "image/png": "[encoded data removed]",
      "text/plain": [
       "<Figure size 432x288 with 1 Axes>"
      ]
     },
     "metadata": {
      "needs_background": "light"
     },
     "output_type": "display_data"
    }
   ],
   "source": [
    "# creating scatter plot to see if there is any linear relation between Sorting time and Delivery time\n",
    "#importing matplot library\n",
    "import matplotlib.pyplot as plt\n",
    "\n",
    "plt.plot(data_salary['YearsExperience'], data_salary['Salary'], \"bo\")\n",
    "plt.xlabel(\"YearsExperience\")\n",
    "plt.ylabel(\"Salary\")"
   ]
  },
  {
   "cell_type": "markdown",
   "id": "3522b71a",
   "metadata": {},
   "source": [
    "#### The scatter plot shows there is +VE linear relation between yearsEperience and Salary i.e. with increase in experience salry increases. Thus its correlation expected to be positive"
   ]
  },
  {
   "cell_type": "code",
   "execution_count": 25,
   "id": "71d85934",
   "metadata": {
    "ExecuteTime": {
     "end_time": "2022-05-15T19:03:20.684628Z",
     "start_time": "2022-05-15T19:03:20.670695Z"
    }
   },
   "outputs": [
    {
     "data": {
      "text/html": [
       "<div>\n",
       "<style scoped>\n",
       "    .dataframe tbody tr th:only-of-type {\n",
       "        vertical-align: middle;\n",
       "    }\n",
       "\n",
       "    .dataframe tbody tr th {\n",
       "        vertical-align: top;\n",
       "    }\n",
       "\n",
       "    .dataframe thead th {\n",
       "        text-align: right;\n",
       "    }\n",
       "</style>\n",
       "<table border=\"1\" class=\"dataframe\">\n",
       "  <thead>\n",
       "    <tr style=\"text-align: right;\">\n",
       "      <th></th>\n",
       "      <th>YearsExperience</th>\n",
       "      <th>Salary</th>\n",
       "    </tr>\n",
       "  </thead>\n",
       "  <tbody>\n",
       "    <tr>\n",
       "      <th>YearsExperience</th>\n",
       "      <td>1.000000</td>\n",
       "      <td>0.978242</td>\n",
       "    </tr>\n",
       "    <tr>\n",
       "      <th>Salary</th>\n",
       "      <td>0.978242</td>\n",
       "      <td>1.000000</td>\n",
       "    </tr>\n",
       "  </tbody>\n",
       "</table>\n",
       "</div>"
      ],
      "text/plain": [
       "                 YearsExperience    Salary\n",
       "YearsExperience         1.000000  0.978242\n",
       "Salary                  0.978242  1.000000"
      ]
     },
     "execution_count": 25,
     "metadata": {},
     "output_type": "execute_result"
    }
   ],
   "source": [
    "# check correlation\n",
    "data_salary.corr()"
   ]
  },
  {
   "cell_type": "markdown",
   "id": "715fb133",
   "metadata": {},
   "source": [
    "#### Correlation between yearsExperience and Salary is +0.97.8 i.e. 97.8%, a strong positive correlation between the fields."
   ]
  },
  {
   "cell_type": "markdown",
   "id": "6282d268",
   "metadata": {},
   "source": [
    "### Check more on data using distirbution plot from seaborn"
   ]
  },
  {
   "cell_type": "code",
   "execution_count": 26,
   "id": "0d718580",
   "metadata": {
    "ExecuteTime": {
     "end_time": "2022-05-15T19:03:20.840954Z",
     "start_time": "2022-05-15T19:03:20.687717Z"
    }
   },
   "outputs": [
    {
     "name": "stderr",
     "output_type": "stream",
     "text": [
      "C:\\ProgramData\\Anaconda3\\lib\\site-packages\\seaborn\\distributions.py:2619: FutureWarning: `distplot` is a deprecated function and will be removed in a future version. Please adapt your code to use either `displot` (a figure-level function with similar flexibility) or `histplot` (an axes-level function for histograms).\n",
      "  warnings.warn(msg, FutureWarning)\n"
     ]
    },
    {
     "data": {
      "text/plain": [
       "<AxesSubplot:xlabel='YearsExperience', ylabel='Density'>"
      ]
     },
     "execution_count": 26,
     "metadata": {},
     "output_type": "execute_result"
    },
    {
     "data": {
      "image/png": "[encoded data removed]",
      "text/plain": [
       "<Figure size 432x288 with 1 Axes>"
      ]
     },
     "metadata": {
      "needs_background": "light"
     },
     "output_type": "display_data"
    }
   ],
   "source": [
    "sns.distplot(data_salary['YearsExperience'])"
   ]
  },
  {
   "cell_type": "code",
   "execution_count": 27,
   "id": "f1a88ff4",
   "metadata": {
    "ExecuteTime": {
     "end_time": "2022-05-15T19:03:20.982420Z",
     "start_time": "2022-05-15T19:03:20.841970Z"
    }
   },
   "outputs": [
    {
     "name": "stderr",
     "output_type": "stream",
     "text": [
      "C:\\ProgramData\\Anaconda3\\lib\\site-packages\\seaborn\\distributions.py:2619: FutureWarning: `distplot` is a deprecated function and will be removed in a future version. Please adapt your code to use either `displot` (a figure-level function with similar flexibility) or `histplot` (an axes-level function for histograms).\n",
      "  warnings.warn(msg, FutureWarning)\n"
     ]
    },
    {
     "data": {
      "text/plain": [
       "<AxesSubplot:xlabel='Salary', ylabel='Density'>"
      ]
     },
     "execution_count": 27,
     "metadata": {},
     "output_type": "execute_result"
    },
    {
     "data": {
      "image/png": "[encoded data removed]",
      "text/plain": [
       "<Figure size 432x288 with 1 Axes>"
      ]
     },
     "metadata": {
      "needs_background": "light"
     },
     "output_type": "display_data"
    }
   ],
   "source": [
    "sns.distplot(data_salary['Salary'])"
   ]
  },
  {
   "cell_type": "markdown",
   "id": "a77d768d",
   "metadata": {},
   "source": [
    "__Fitting a Linear Regression Model__"
   ]
  },
  {
   "cell_type": "code",
   "execution_count": 28,
   "id": "ad77aa67",
   "metadata": {
    "ExecuteTime": {
     "end_time": "2022-05-15T19:03:20.997678Z",
     "start_time": "2022-05-15T19:03:20.987204Z"
    }
   },
   "outputs": [],
   "source": [
    "salary_hike_model = smf.ols(\"Salary~YearsExperience\",data = data_salary).fit()"
   ]
  },
  {
   "cell_type": "code",
   "execution_count": 29,
   "id": "4179896a",
   "metadata": {
    "ExecuteTime": {
     "end_time": "2022-05-15T19:03:21.202514Z",
     "start_time": "2022-05-15T19:03:20.999107Z"
    }
   },
   "outputs": [
    {
     "data": {
      "text/plain": [
       "<AxesSubplot:xlabel='YearsExperience', ylabel='Salary'>"
      ]
     },
     "execution_count": 29,
     "metadata": {},
     "output_type": "execute_result"
    },
    {
     "data": {
      "image/png": "[encoded data removed]",
      "text/plain": [
       "<Figure size 432x288 with 1 Axes>"
      ]
     },
     "metadata": {
      "needs_background": "light"
     },
     "output_type": "display_data"
    }
   ],
   "source": [
    "#creating regression plot\n",
    "\n",
    "sns.regplot(x=\"YearsExperience\", y=\"Salary\", data=data_salary)"
   ]
  },
  {
   "cell_type": "markdown",
   "id": "fbbdedd2",
   "metadata": {},
   "source": [
    "#### The Regression plot shows there is strong +ve linear relation between yearsEperience and Salary i.e. with increase in experience salry increases. Thus its correlation expected to be positive"
   ]
  },
  {
   "cell_type": "code",
   "execution_count": 30,
   "id": "02a175d3",
   "metadata": {
    "ExecuteTime": {
     "end_time": "2022-05-15T19:03:21.233190Z",
     "start_time": "2022-05-15T19:03:21.209086Z"
    }
   },
   "outputs": [
    {
     "data": {
      "text/html": [
       "<table class=\"simpletable\">\n",
       "<caption>OLS Regression Results</caption>\n",
       "<tr>\n",
       "  <th>Dep. Variable:</th>         <td>Salary</td>      <th>  R-squared:         </th> <td>   0.957</td>\n",
       "</tr>\n",
       "<tr>\n",
       "  <th>Model:</th>                   <td>OLS</td>       <th>  Adj. R-squared:    </th> <td>   0.955</td>\n",
       "</tr>\n",
       "<tr>\n",
       "  <th>Method:</th>             <td>Least Squares</td>  <th>  F-statistic:       </th> <td>   622.5</td>\n",
       "</tr>\n",
       "<tr>\n",
       "  <th>Date:</th>             <td>Mon, 16 May 2022</td> <th>  Prob (F-statistic):</th> <td>1.14e-20</td>\n",
       "</tr>\n",
       "<tr>\n",
       "  <th>Time:</th>                 <td>00:33:21</td>     <th>  Log-Likelihood:    </th> <td> -301.44</td>\n",
       "</tr>\n",
       "<tr>\n",
       "  <th>No. Observations:</th>      <td>    30</td>      <th>  AIC:               </th> <td>   606.9</td>\n",
       "</tr>\n",
       "<tr>\n",
       "  <th>Df Residuals:</th>          <td>    28</td>      <th>  BIC:               </th> <td>   609.7</td>\n",
       "</tr>\n",
       "<tr>\n",
       "  <th>Df Model:</th>              <td>     1</td>      <th>                     </th>     <td> </td>   \n",
       "</tr>\n",
       "<tr>\n",
       "  <th>Covariance Type:</th>      <td>nonrobust</td>    <th>                     </th>     <td> </td>   \n",
       "</tr>\n",
       "</table>\n",
       "<table class=\"simpletable\">\n",
       "<tr>\n",
       "         <td></td>            <th>coef</th>     <th>std err</th>      <th>t</th>      <th>P>|t|</th>  <th>[0.025</th>    <th>0.975]</th>  \n",
       "</tr>\n",
       "<tr>\n",
       "  <th>Intercept</th>       <td> 2.579e+04</td> <td> 2273.053</td> <td>   11.347</td> <td> 0.000</td> <td> 2.11e+04</td> <td> 3.04e+04</td>\n",
       "</tr>\n",
       "<tr>\n",
       "  <th>YearsExperience</th> <td> 9449.9623</td> <td>  378.755</td> <td>   24.950</td> <td> 0.000</td> <td> 8674.119</td> <td> 1.02e+04</td>\n",
       "</tr>\n",
       "</table>\n",
       "<table class=\"simpletable\">\n",
       "<tr>\n",
       "  <th>Omnibus:</th>       <td> 2.140</td> <th>  Durbin-Watson:     </th> <td>   1.648</td>\n",
       "</tr>\n",
       "<tr>\n",
       "  <th>Prob(Omnibus):</th> <td> 0.343</td> <th>  Jarque-Bera (JB):  </th> <td>   1.569</td>\n",
       "</tr>\n",
       "<tr>\n",
       "  <th>Skew:</th>          <td> 0.363</td> <th>  Prob(JB):          </th> <td>   0.456</td>\n",
       "</tr>\n",
       "<tr>\n",
       "  <th>Kurtosis:</th>      <td> 2.147</td> <th>  Cond. No.          </th> <td>    13.2</td>\n",
       "</tr>\n",
       "</table><br/><br/>Notes:<br/>[1] Standard Errors assume that the covariance matrix of the errors is correctly specified."
      ],
      "text/plain": [
       "<class 'statsmodels.iolib.summary.Summary'>\n",
       "\"\"\"\n",
       "                            OLS Regression Results                            \n",
       "==============================================================================\n",
       "Dep. Variable:                 Salary   R-squared:                       0.957\n",
       "Model:                            OLS   Adj. R-squared:                  0.955\n",
       "Method:                 Least Squares   F-statistic:                     622.5\n",
       "Date:                Mon, 16 May 2022   Prob (F-statistic):           1.14e-20\n",
       "Time:                        00:33:21   Log-Likelihood:                -301.44\n",
       "No. Observations:                  30   AIC:                             606.9\n",
       "Df Residuals:                      28   BIC:                             609.7\n",
       "Df Model:                           1                                         \n",
       "Covariance Type:            nonrobust                                         \n",
       "===================================================================================\n",
       "                      coef    std err          t      P>|t|      [0.025      0.975]\n",
       "-----------------------------------------------------------------------------------\n",
       "Intercept        2.579e+04   2273.053     11.347      0.000    2.11e+04    3.04e+04\n",
       "YearsExperience  9449.9623    378.755     24.950      0.000    8674.119    1.02e+04\n",
       "==============================================================================\n",
       "Omnibus:                        2.140   Durbin-Watson:                   1.648\n",
       "Prob(Omnibus):                  0.343   Jarque-Bera (JB):                1.569\n",
       "Skew:                           0.363   Prob(JB):                        0.456\n",
       "Kurtosis:                       2.147   Cond. No.                         13.2\n",
       "==============================================================================\n",
       "\n",
       "Notes:\n",
       "[1] Standard Errors assume that the covariance matrix of the errors is correctly specified.\n",
       "\"\"\""
      ]
     },
     "execution_count": 30,
     "metadata": {},
     "output_type": "execute_result"
    }
   ],
   "source": [
    "#get all results of Simple linear fit\n",
    "salary_hike_model.summary()"
   ]
  },
  {
   "cell_type": "markdown",
   "id": "3104d444",
   "metadata": {},
   "source": [
    "__Results Summary__<br>\n",
    "__beta0__  is 2579<br>\n",
    "__beta1__ is 9449.96<br>\n",
    "__R-Squared__ is 0.957 indicates __model is 95.7% accurate__<br>\n",
    "__Degree of freem for errors(DFResidual)__ is 28<br>\n",
    "__degree of freedom for model__ is 1<br>\n",
    "__P value__ is 0.00 (is less than 0.05) meaning this __is siginifcant parameter__ for Sorting_Time"
   ]
  },
  {
   "cell_type": "markdown",
   "id": "33bdeebf",
   "metadata": {},
   "source": [
    "# Predict for new data point"
   ]
  },
  {
   "cell_type": "code",
   "execution_count": 31,
   "id": "6381a92c",
   "metadata": {
    "ExecuteTime": {
     "end_time": "2022-05-15T19:03:21.248674Z",
     "start_time": "2022-05-15T19:03:21.237667Z"
    }
   },
   "outputs": [],
   "source": [
    "#Predict for 200 and 300 daily circulation\n",
    "salary_predict_data=pd.Series([5.5, 20])"
   ]
  },
  {
   "cell_type": "code",
   "execution_count": 32,
   "id": "41dd54a1",
   "metadata": {
    "ExecuteTime": {
     "end_time": "2022-05-15T19:03:21.263780Z",
     "start_time": "2022-05-15T19:03:21.250727Z"
    }
   },
   "outputs": [],
   "source": [
    "salary_pred=pd.DataFrame(newdata,columns=['YearsExperience'])"
   ]
  },
  {
   "cell_type": "code",
   "execution_count": 33,
   "id": "b69429d2",
   "metadata": {
    "ExecuteTime": {
     "end_time": "2022-05-15T19:03:21.295007Z",
     "start_time": "2022-05-15T19:03:21.267529Z"
    }
   },
   "outputs": [
    {
     "data": {
      "text/html": [
       "<div>\n",
       "<style scoped>\n",
       "    .dataframe tbody tr th:only-of-type {\n",
       "        vertical-align: middle;\n",
       "    }\n",
       "\n",
       "    .dataframe tbody tr th {\n",
       "        vertical-align: top;\n",
       "    }\n",
       "\n",
       "    .dataframe thead th {\n",
       "        text-align: right;\n",
       "    }\n",
       "</style>\n",
       "<table border=\"1\" class=\"dataframe\">\n",
       "  <thead>\n",
       "    <tr style=\"text-align: right;\">\n",
       "      <th></th>\n",
       "      <th>YearsExperience</th>\n",
       "    </tr>\n",
       "  </thead>\n",
       "  <tbody>\n",
       "    <tr>\n",
       "      <th>0</th>\n",
       "      <td>7</td>\n",
       "    </tr>\n",
       "    <tr>\n",
       "      <th>1</th>\n",
       "      <td>12</td>\n",
       "    </tr>\n",
       "  </tbody>\n",
       "</table>\n",
       "</div>"
      ],
      "text/plain": [
       "   YearsExperience\n",
       "0                7\n",
       "1               12"
      ]
     },
     "execution_count": 33,
     "metadata": {},
     "output_type": "execute_result"
    }
   ],
   "source": [
    "salary_pred.head()"
   ]
  },
  {
   "cell_type": "code",
   "execution_count": 34,
   "id": "0b9d1046",
   "metadata": {
    "ExecuteTime": {
     "end_time": "2022-05-15T19:03:21.341425Z",
     "start_time": "2022-05-15T19:03:21.309046Z"
    }
   },
   "outputs": [
    {
     "data": {
      "text/plain": [
       "0     91941.936449\n",
       "1    139191.748056\n",
       "dtype: float64"
      ]
     },
     "execution_count": 34,
     "metadata": {},
     "output_type": "execute_result"
    }
   ],
   "source": [
    "salary_hike_model.predict(salary_pred)"
   ]
  },
  {
   "cell_type": "markdown",
   "id": "4b0fa515",
   "metadata": {},
   "source": [
    "#### Results:<br>\n",
    "1. for __Sorting Time : 5.5__, the __Delivery Time: 77766.99__\n",
    "2. for __Sorting Time : 20.0__,the __Delivery Time: 214791.45__"
   ]
  },
  {
   "cell_type": "code",
   "execution_count": null,
   "id": "9cd3eee3",
   "metadata": {},
   "outputs": [],
   "source": []
  }
 ],
 "metadata": {
  "kernelspec": {
   "display_name": "Python 3 (ipykernel)",
   "language": "python",
   "name": "python3"
  },
  "language_info": {
   "codemirror_mode": {
    "name": "ipython",
    "version": 3
   },
   "file_extension": ".py",
   "mimetype": "text/x-python",
   "name": "python",
   "nbconvert_exporter": "python",
   "pygments_lexer": "ipython3",
   "version": "3.9.7"
  }
 },
 "nbformat": 4,
 "nbformat_minor": 5
}
