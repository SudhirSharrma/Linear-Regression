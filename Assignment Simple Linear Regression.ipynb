{
 "cells": [
  {
   "cell_type": "markdown",
   "id": "3b775b5a",
   "metadata": {},
   "source": [
    "# <center>Assignment : Simple Linear Regression</center>"
   ]
  },
  {
   "cell_type": "markdown",
   "id": "2e93b43a",
   "metadata": {},
   "source": [
    "__Problem Statement__<br>\n",
    "\n",
    "1) Delivery_time -> Predict delivery time using sorting time <br>\n",
    "2) Salary_hike -> Build a prediction model for Salary_hike<br>\n",
    "\n",
    "__<hr style=\"border:0.5px solid green\">__<br>\n",
    "\n",
    "Build a simple linear regression model by performing EDA and do necessary transformations and select the best model using R or Python."
   ]
  },
  {
   "cell_type": "code",
   "execution_count": 1,
   "id": "1c2aa605",
   "metadata": {
    "ExecuteTime": {
     "end_time": "2022-05-16T13:39:58.854071Z",
     "start_time": "2022-05-16T13:39:57.715907Z"
    }
   },
   "outputs": [],
   "source": [
    "#importing basic libraries\n",
    "import pandas as pd\n",
    "import numpy as np\n",
    "import matplotlib.pyplot as plt"
   ]
  },
  {
   "cell_type": "markdown",
   "id": "b9808c42",
   "metadata": {},
   "source": [
    " ##  I. Delivery_time -> Predict delivery time using sorting time"
   ]
  },
  {
   "cell_type": "code",
   "execution_count": 2,
   "id": "23673f7c",
   "metadata": {
    "ExecuteTime": {
     "end_time": "2022-05-16T13:39:58.869774Z",
     "start_time": "2022-05-16T13:39:58.855017Z"
    }
   },
   "outputs": [],
   "source": [
    "#importing llibraries to read data\n",
    "data_del_time=pd.read_csv(\"delivery_time.csv\")"
   ]
  },
  {
   "cell_type": "markdown",
   "id": "73398c6a",
   "metadata": {
    "ExecuteTime": {
     "end_time": "2022-05-15T17:12:46.919238Z",
     "start_time": "2022-05-15T17:12:46.910621Z"
    }
   },
   "source": [
    "#### Data explore to understand basics of data"
   ]
  },
  {
   "cell_type": "code",
   "execution_count": 3,
   "id": "89fe3d05",
   "metadata": {
    "ExecuteTime": {
     "end_time": "2022-05-16T13:39:58.901169Z",
     "start_time": "2022-05-16T13:39:58.872024Z"
    }
   },
   "outputs": [
    {
     "data": {
      "text/html": [
       "<div>\n",
       "<style scoped>\n",
       "    .dataframe tbody tr th:only-of-type {\n",
       "        vertical-align: middle;\n",
       "    }\n",
       "\n",
       "    .dataframe tbody tr th {\n",
       "        vertical-align: top;\n",
       "    }\n",
       "\n",
       "    .dataframe thead th {\n",
       "        text-align: right;\n",
       "    }\n",
       "</style>\n",
       "<table border=\"1\" class=\"dataframe\">\n",
       "  <thead>\n",
       "    <tr style=\"text-align: right;\">\n",
       "      <th></th>\n",
       "      <th>Delivery Time</th>\n",
       "      <th>Sorting Time</th>\n",
       "    </tr>\n",
       "  </thead>\n",
       "  <tbody>\n",
       "    <tr>\n",
       "      <th>0</th>\n",
       "      <td>21.00</td>\n",
       "      <td>10</td>\n",
       "    </tr>\n",
       "    <tr>\n",
       "      <th>1</th>\n",
       "      <td>13.50</td>\n",
       "      <td>4</td>\n",
       "    </tr>\n",
       "    <tr>\n",
       "      <th>2</th>\n",
       "      <td>19.75</td>\n",
       "      <td>6</td>\n",
       "    </tr>\n",
       "    <tr>\n",
       "      <th>3</th>\n",
       "      <td>24.00</td>\n",
       "      <td>9</td>\n",
       "    </tr>\n",
       "    <tr>\n",
       "      <th>4</th>\n",
       "      <td>29.00</td>\n",
       "      <td>10</td>\n",
       "    </tr>\n",
       "  </tbody>\n",
       "</table>\n",
       "</div>"
      ],
      "text/plain": [
       "   Delivery Time  Sorting Time\n",
       "0          21.00            10\n",
       "1          13.50             4\n",
       "2          19.75             6\n",
       "3          24.00             9\n",
       "4          29.00            10"
      ]
     },
     "execution_count": 3,
     "metadata": {},
     "output_type": "execute_result"
    }
   ],
   "source": [
    "data_del_time.head()"
   ]
  },
  {
   "cell_type": "markdown",
   "id": "34c6904e",
   "metadata": {
    "ExecuteTime": {
     "end_time": "2022-05-15T17:14:00.129095Z",
     "start_time": "2022-05-15T17:14:00.118930Z"
    }
   },
   "source": [
    "##### data set has two columns Delivery time and sorting time, we are supposed to predict delivey time based on sorting time"
   ]
  },
  {
   "cell_type": "code",
   "execution_count": 4,
   "id": "2784ed57",
   "metadata": {
    "ExecuteTime": {
     "end_time": "2022-05-16T13:39:58.916490Z",
     "start_time": "2022-05-16T13:39:58.904159Z"
    }
   },
   "outputs": [
    {
     "data": {
      "text/plain": [
       "(21, 2)"
      ]
     },
     "execution_count": 4,
     "metadata": {},
     "output_type": "execute_result"
    }
   ],
   "source": [
    "# number of rows and columns\n",
    "data_del_time.shape"
   ]
  },
  {
   "cell_type": "markdown",
   "id": "4b3de691",
   "metadata": {},
   "source": [
    "##### data set has 21 rows and 2 columns"
   ]
  },
  {
   "cell_type": "code",
   "execution_count": 5,
   "id": "4abf8d2f",
   "metadata": {
    "ExecuteTime": {
     "end_time": "2022-05-16T13:39:58.978606Z",
     "start_time": "2022-05-16T13:39:58.919478Z"
    }
   },
   "outputs": [],
   "source": [
    "# getting basic info on data"
   ]
  },
  {
   "cell_type": "code",
   "execution_count": 6,
   "id": "954243ce",
   "metadata": {
    "ExecuteTime": {
     "end_time": "2022-05-16T13:39:59.071964Z",
     "start_time": "2022-05-16T13:39:58.980595Z"
    }
   },
   "outputs": [
    {
     "name": "stdout",
     "output_type": "stream",
     "text": [
      "<class 'pandas.core.frame.DataFrame'>\n",
      "RangeIndex: 21 entries, 0 to 20\n",
      "Data columns (total 2 columns):\n",
      " #   Column         Non-Null Count  Dtype  \n",
      "---  ------         --------------  -----  \n",
      " 0   Delivery Time  21 non-null     float64\n",
      " 1   Sorting Time   21 non-null     int64  \n",
      "dtypes: float64(1), int64(1)\n",
      "memory usage: 464.0 bytes\n"
     ]
    }
   ],
   "source": [
    "data_del_time.info()"
   ]
  },
  {
   "cell_type": "markdown",
   "id": "7a6f2cd4",
   "metadata": {},
   "source": [
    "##### there are no null values, data type for Delivery time is float and for sorting is integer"
   ]
  },
  {
   "cell_type": "code",
   "execution_count": 7,
   "id": "cbb30e0e",
   "metadata": {
    "ExecuteTime": {
     "end_time": "2022-05-16T13:39:59.103535Z",
     "start_time": "2022-05-16T13:39:59.076723Z"
    }
   },
   "outputs": [
    {
     "data": {
      "text/html": [
       "<div>\n",
       "<style scoped>\n",
       "    .dataframe tbody tr th:only-of-type {\n",
       "        vertical-align: middle;\n",
       "    }\n",
       "\n",
       "    .dataframe tbody tr th {\n",
       "        vertical-align: top;\n",
       "    }\n",
       "\n",
       "    .dataframe thead th {\n",
       "        text-align: right;\n",
       "    }\n",
       "</style>\n",
       "<table border=\"1\" class=\"dataframe\">\n",
       "  <thead>\n",
       "    <tr style=\"text-align: right;\">\n",
       "      <th></th>\n",
       "      <th>Delivery Time</th>\n",
       "      <th>Sorting Time</th>\n",
       "    </tr>\n",
       "  </thead>\n",
       "  <tbody>\n",
       "    <tr>\n",
       "      <th>count</th>\n",
       "      <td>21.000000</td>\n",
       "      <td>21.000000</td>\n",
       "    </tr>\n",
       "    <tr>\n",
       "      <th>mean</th>\n",
       "      <td>16.790952</td>\n",
       "      <td>6.190476</td>\n",
       "    </tr>\n",
       "    <tr>\n",
       "      <th>std</th>\n",
       "      <td>5.074901</td>\n",
       "      <td>2.542028</td>\n",
       "    </tr>\n",
       "    <tr>\n",
       "      <th>min</th>\n",
       "      <td>8.000000</td>\n",
       "      <td>2.000000</td>\n",
       "    </tr>\n",
       "    <tr>\n",
       "      <th>25%</th>\n",
       "      <td>13.500000</td>\n",
       "      <td>4.000000</td>\n",
       "    </tr>\n",
       "    <tr>\n",
       "      <th>50%</th>\n",
       "      <td>17.830000</td>\n",
       "      <td>6.000000</td>\n",
       "    </tr>\n",
       "    <tr>\n",
       "      <th>75%</th>\n",
       "      <td>19.750000</td>\n",
       "      <td>8.000000</td>\n",
       "    </tr>\n",
       "    <tr>\n",
       "      <th>max</th>\n",
       "      <td>29.000000</td>\n",
       "      <td>10.000000</td>\n",
       "    </tr>\n",
       "  </tbody>\n",
       "</table>\n",
       "</div>"
      ],
      "text/plain": [
       "       Delivery Time  Sorting Time\n",
       "count      21.000000     21.000000\n",
       "mean       16.790952      6.190476\n",
       "std         5.074901      2.542028\n",
       "min         8.000000      2.000000\n",
       "25%        13.500000      4.000000\n",
       "50%        17.830000      6.000000\n",
       "75%        19.750000      8.000000\n",
       "max        29.000000     10.000000"
      ]
     },
     "execution_count": 7,
     "metadata": {},
     "output_type": "execute_result"
    }
   ],
   "source": [
    "# getting basics statistical information on data set\n",
    "data_del_time.describe()"
   ]
  },
  {
   "cell_type": "markdown",
   "id": "6c842e2b",
   "metadata": {},
   "source": [
    "##### statistical information we get:<br>\n",
    "__for Delivery Time__<br>\n",
    "- 1st quartile: 13.5\n",
    "- 3rd quartile: 19.7\n",
    "- Min value: 8.0\n",
    "- Max value: 29.00\n",
    "- IQR: 19.7-13.5 = 6.2\n",
    "- mean: 16.79\n",
    "- std: 5.07\n",
    "<br>\n",
    "\n",
    "__for Sorting Time__<br>\n",
    "- 1st quartile: 4\n",
    "- 3rd quartile: 8\n",
    "- Min value: 2\n",
    "- Max value: 10\n",
    "- IQR: 8-4 =4\n",
    "- mean:6.19\n",
    "- std: 5.54"
   ]
  },
  {
   "cell_type": "code",
   "execution_count": 8,
   "id": "8a04ec64",
   "metadata": {
    "ExecuteTime": {
     "end_time": "2022-05-16T13:39:59.118872Z",
     "start_time": "2022-05-16T13:39:59.107697Z"
    }
   },
   "outputs": [
    {
     "data": {
      "text/html": [
       "<div>\n",
       "<style scoped>\n",
       "    .dataframe tbody tr th:only-of-type {\n",
       "        vertical-align: middle;\n",
       "    }\n",
       "\n",
       "    .dataframe tbody tr th {\n",
       "        vertical-align: top;\n",
       "    }\n",
       "\n",
       "    .dataframe thead th {\n",
       "        text-align: right;\n",
       "    }\n",
       "</style>\n",
       "<table border=\"1\" class=\"dataframe\">\n",
       "  <thead>\n",
       "    <tr style=\"text-align: right;\">\n",
       "      <th></th>\n",
       "      <th>Delivery_Time</th>\n",
       "      <th>Sorting_Time</th>\n",
       "    </tr>\n",
       "  </thead>\n",
       "  <tbody>\n",
       "    <tr>\n",
       "      <th>0</th>\n",
       "      <td>21.00</td>\n",
       "      <td>10</td>\n",
       "    </tr>\n",
       "    <tr>\n",
       "      <th>1</th>\n",
       "      <td>13.50</td>\n",
       "      <td>4</td>\n",
       "    </tr>\n",
       "    <tr>\n",
       "      <th>2</th>\n",
       "      <td>19.75</td>\n",
       "      <td>6</td>\n",
       "    </tr>\n",
       "    <tr>\n",
       "      <th>3</th>\n",
       "      <td>24.00</td>\n",
       "      <td>9</td>\n",
       "    </tr>\n",
       "    <tr>\n",
       "      <th>4</th>\n",
       "      <td>29.00</td>\n",
       "      <td>10</td>\n",
       "    </tr>\n",
       "  </tbody>\n",
       "</table>\n",
       "</div>"
      ],
      "text/plain": [
       "   Delivery_Time  Sorting_Time\n",
       "0          21.00            10\n",
       "1          13.50             4\n",
       "2          19.75             6\n",
       "3          24.00             9\n",
       "4          29.00            10"
      ]
     },
     "execution_count": 8,
     "metadata": {},
     "output_type": "execute_result"
    }
   ],
   "source": [
    "# changing column names Delivery time to Delivery_time and Sorting time to Sorting_time\n",
    "data_del_time.rename(columns={'Delivery Time':\"Delivery_Time\",\"Sorting Time\":\"Sorting_Time\"}, inplace=True)\n",
    "data_del_time.head()"
   ]
  },
  {
   "cell_type": "code",
   "execution_count": 9,
   "id": "3fc461c5",
   "metadata": {
    "ExecuteTime": {
     "end_time": "2022-05-16T13:39:59.338227Z",
     "start_time": "2022-05-16T13:39:59.123548Z"
    }
   },
   "outputs": [
    {
     "data": {
      "text/plain": [
       "Text(0, 0.5, 'Delivery Time')"
      ]
     },
     "execution_count": 9,
     "metadata": {},
     "output_type": "execute_result"
    },
    {
     "data": {
      "image/png": "[encoded data removed]",
      "text/plain": [
       "<Figure size 432x288 with 1 Axes>"
      ]
     },
     "metadata": {
      "needs_background": "light"
     },
     "output_type": "display_data"
    }
   ],
   "source": [
    "# creating scatter plot to see if there is any linear relation between Sorting time and Delivery time\n",
    "#importing matplot library\n",
    "import matplotlib.pyplot as plt\n",
    "\n",
    "plt.plot(data_del_time['Sorting_Time'], data_del_time['Delivery_Time'], \"bo\")\n",
    "plt.xlabel(\"Sorting time\")\n",
    "plt.ylabel(\"Delivery Time\")"
   ]
  },
  {
   "cell_type": "markdown",
   "id": "59f651fc",
   "metadata": {},
   "source": [
    "#### there is strong positive relation between between Sorting_Time and Delivery_Time"
   ]
  },
  {
   "cell_type": "code",
   "execution_count": 10,
   "id": "a39e461c",
   "metadata": {
    "ExecuteTime": {
     "end_time": "2022-05-16T13:39:59.369371Z",
     "start_time": "2022-05-16T13:39:59.342478Z"
    }
   },
   "outputs": [
    {
     "data": {
      "text/html": [
       "<div>\n",
       "<style scoped>\n",
       "    .dataframe tbody tr th:only-of-type {\n",
       "        vertical-align: middle;\n",
       "    }\n",
       "\n",
       "    .dataframe tbody tr th {\n",
       "        vertical-align: top;\n",
       "    }\n",
       "\n",
       "    .dataframe thead th {\n",
       "        text-align: right;\n",
       "    }\n",
       "</style>\n",
       "<table border=\"1\" class=\"dataframe\">\n",
       "  <thead>\n",
       "    <tr style=\"text-align: right;\">\n",
       "      <th></th>\n",
       "      <th>Delivery_Time</th>\n",
       "      <th>Sorting_Time</th>\n",
       "    </tr>\n",
       "  </thead>\n",
       "  <tbody>\n",
       "    <tr>\n",
       "      <th>Delivery_Time</th>\n",
       "      <td>1.000000</td>\n",
       "      <td>0.825997</td>\n",
       "    </tr>\n",
       "    <tr>\n",
       "      <th>Sorting_Time</th>\n",
       "      <td>0.825997</td>\n",
       "      <td>1.000000</td>\n",
       "    </tr>\n",
       "  </tbody>\n",
       "</table>\n",
       "</div>"
      ],
      "text/plain": [
       "               Delivery_Time  Sorting_Time\n",
       "Delivery_Time       1.000000      0.825997\n",
       "Sorting_Time        0.825997      1.000000"
      ]
     },
     "execution_count": 10,
     "metadata": {},
     "output_type": "execute_result"
    }
   ],
   "source": [
    "#check correlation between Sorting_Time and Delivery_Time\n",
    "data_del_time.corr()"
   ]
  },
  {
   "cell_type": "markdown",
   "id": "e9dc5fa7",
   "metadata": {
    "ExecuteTime": {
     "end_time": "2022-05-15T17:32:53.750540Z",
     "start_time": "2022-05-15T17:32:53.731041Z"
    }
   },
   "source": [
    "#### the correlation is + 0.826 i.e. there strong correlation of 82.6% between Sorting_Time and Delivery_Time"
   ]
  },
  {
   "cell_type": "code",
   "execution_count": 11,
   "id": "e8dc704d",
   "metadata": {
    "ExecuteTime": {
     "end_time": "2022-05-16T13:39:59.499588Z",
     "start_time": "2022-05-16T13:39:59.372232Z"
    }
   },
   "outputs": [
    {
     "data": {
      "image/png": "[encoded data removed]",
      "text/plain": [
       "<Figure size 432x288 with 1 Axes>"
      ]
     },
     "metadata": {
      "needs_background": "light"
     },
     "output_type": "display_data"
    }
   ],
   "source": [
    "plt.boxplot(data_del_time['Sorting_Time'])\n",
    "plt.show()"
   ]
  },
  {
   "cell_type": "code",
   "execution_count": 12,
   "id": "a5f7362e",
   "metadata": {
    "ExecuteTime": {
     "end_time": "2022-05-16T13:39:59.622681Z",
     "start_time": "2022-05-16T13:39:59.503818Z"
    }
   },
   "outputs": [
    {
     "data": {
      "image/png": "[encoded data removed]",
      "text/plain": [
       "<Figure size 432x288 with 1 Axes>"
      ]
     },
     "metadata": {
      "needs_background": "light"
     },
     "output_type": "display_data"
    }
   ],
   "source": [
    "plt.boxplot(data_del_time['Delivery_Time'])\n",
    "plt.show()"
   ]
  },
  {
   "cell_type": "markdown",
   "id": "f98b5206",
   "metadata": {},
   "source": [
    "### Check more on data using distirbution plot from seaborn"
   ]
  },
  {
   "cell_type": "code",
   "execution_count": 13,
   "id": "da41173a",
   "metadata": {
    "ExecuteTime": {
     "end_time": "2022-05-16T13:40:00.522910Z",
     "start_time": "2022-05-16T13:39:59.624998Z"
    }
   },
   "outputs": [
    {
     "name": "stderr",
     "output_type": "stream",
     "text": [
      "C:\\Users\\DELL\\anaconda3\\lib\\site-packages\\seaborn\\distributions.py:2619: FutureWarning: `distplot` is a deprecated function and will be removed in a future version. Please adapt your code to use either `displot` (a figure-level function with similar flexibility) or `histplot` (an axes-level function for histograms).\n",
      "  warnings.warn(msg, FutureWarning)\n"
     ]
    },
    {
     "data": {
      "text/plain": [
       "<AxesSubplot:xlabel='Sorting_Time', ylabel='Density'>"
      ]
     },
     "execution_count": 13,
     "metadata": {},
     "output_type": "execute_result"
    },
    {
     "data": {
      "image/png": "[encoded data removed]",
      "text/plain": [
       "<Figure size 432x288 with 1 Axes>"
      ]
     },
     "metadata": {
      "needs_background": "light"
     },
     "output_type": "display_data"
    }
   ],
   "source": [
    "import seaborn as sns\n",
    "\n",
    "sns.distplot(data_del_time['Sorting_Time'])"
   ]
  },
  {
   "cell_type": "markdown",
   "id": "90810971",
   "metadata": {
    "ExecuteTime": {
     "end_time": "2022-05-15T17:40:50.911996Z",
     "start_time": "2022-05-15T17:40:50.894880Z"
    }
   },
   "source": [
    "#### for sorting time: we notice that 50% of data is between 4 and 8 and has no tails."
   ]
  },
  {
   "cell_type": "code",
   "execution_count": 14,
   "id": "6926eddf",
   "metadata": {
    "ExecuteTime": {
     "end_time": "2022-05-16T13:40:00.785332Z",
     "start_time": "2022-05-16T13:40:00.527860Z"
    }
   },
   "outputs": [
    {
     "name": "stderr",
     "output_type": "stream",
     "text": [
      "C:\\Users\\DELL\\anaconda3\\lib\\site-packages\\seaborn\\distributions.py:2619: FutureWarning: `distplot` is a deprecated function and will be removed in a future version. Please adapt your code to use either `displot` (a figure-level function with similar flexibility) or `histplot` (an axes-level function for histograms).\n",
      "  warnings.warn(msg, FutureWarning)\n"
     ]
    },
    {
     "data": {
      "text/plain": [
       "<AxesSubplot:xlabel='Delivery_Time', ylabel='Density'>"
      ]
     },
     "execution_count": 14,
     "metadata": {},
     "output_type": "execute_result"
    },
    {
     "data": {
      "image/png": "[encoded data removed]",
      "text/plain": [
       "<Figure size 432x288 with 1 Axes>"
      ]
     },
     "metadata": {
      "needs_background": "light"
     },
     "output_type": "display_data"
    }
   ],
   "source": [
    "sns.distplot(data_del_time['Delivery_Time'])"
   ]
  },
  {
   "cell_type": "markdown",
   "id": "b39507a1",
   "metadata": {
    "ExecuteTime": {
     "end_time": "2022-05-15T17:42:59.711335Z",
     "start_time": "2022-05-15T17:42:59.696005Z"
    }
   },
   "source": [
    "#### for sorting time: we notice that 50% of data is between 10 and 20 and as per statis information ealier it should be beteen 13.5 and 19.7"
   ]
  },
  {
   "cell_type": "markdown",
   "id": "b8190f65",
   "metadata": {},
   "source": [
    "__Fitting a Linear Regression Model__"
   ]
  },
  {
   "cell_type": "code",
   "execution_count": 15,
   "id": "c218c5a5",
   "metadata": {
    "ExecuteTime": {
     "end_time": "2022-05-16T13:40:01.002118Z",
     "start_time": "2022-05-16T13:40:00.787290Z"
    }
   },
   "outputs": [],
   "source": [
    "import statsmodels.formula.api as smf\n",
    "deliver_time_model = smf.ols(\"Delivery_Time~Sorting_Time\",data = data_del_time).fit()"
   ]
  },
  {
   "cell_type": "code",
   "execution_count": 16,
   "id": "3e29d660",
   "metadata": {
    "ExecuteTime": {
     "end_time": "2022-05-16T13:40:01.282762Z",
     "start_time": "2022-05-16T13:40:01.007381Z"
    }
   },
   "outputs": [
    {
     "data": {
      "text/plain": [
       "<AxesSubplot:xlabel='Sorting_Time', ylabel='Delivery_Time'>"
      ]
     },
     "execution_count": 16,
     "metadata": {},
     "output_type": "execute_result"
    },
    {
     "data": {
      "image/png": "[encoded data removed]",
      "text/plain": [
       "<Figure size 432x288 with 1 Axes>"
      ]
     },
     "metadata": {
      "needs_background": "light"
     },
     "output_type": "display_data"
    }
   ],
   "source": [
    "#creating regression plot\n",
    "\n",
    "sns.regplot(x=\"Sorting_Time\", y=\"Delivery_Time\", data=data_del_time)"
   ]
  },
  {
   "cell_type": "markdown",
   "id": "5b3a8bba",
   "metadata": {
    "ExecuteTime": {
     "end_time": "2022-05-15T17:48:04.865054Z",
     "start_time": "2022-05-15T17:48:04.855946Z"
    }
   },
   "source": [
    "#### regression plot showing positive regression between Sorting_Time and Delivery_Time"
   ]
  },
  {
   "cell_type": "code",
   "execution_count": 17,
   "id": "fead671d",
   "metadata": {
    "ExecuteTime": {
     "end_time": "2022-05-16T13:40:01.314095Z",
     "start_time": "2022-05-16T13:40:01.284632Z"
    }
   },
   "outputs": [
    {
     "data": {
      "text/html": [
       "<table class=\"simpletable\">\n",
       "<caption>OLS Regression Results</caption>\n",
       "<tr>\n",
       "  <th>Dep. Variable:</th>      <td>Delivery_Time</td>  <th>  R-squared:         </th> <td>   0.682</td>\n",
       "</tr>\n",
       "<tr>\n",
       "  <th>Model:</th>                   <td>OLS</td>       <th>  Adj. R-squared:    </th> <td>   0.666</td>\n",
       "</tr>\n",
       "<tr>\n",
       "  <th>Method:</th>             <td>Least Squares</td>  <th>  F-statistic:       </th> <td>   40.80</td>\n",
       "</tr>\n",
       "<tr>\n",
       "  <th>Date:</th>             <td>Mon, 16 May 2022</td> <th>  Prob (F-statistic):</th> <td>3.98e-06</td>\n",
       "</tr>\n",
       "<tr>\n",
       "  <th>Time:</th>                 <td>19:10:01</td>     <th>  Log-Likelihood:    </th> <td> -51.357</td>\n",
       "</tr>\n",
       "<tr>\n",
       "  <th>No. Observations:</th>      <td>    21</td>      <th>  AIC:               </th> <td>   106.7</td>\n",
       "</tr>\n",
       "<tr>\n",
       "  <th>Df Residuals:</th>          <td>    19</td>      <th>  BIC:               </th> <td>   108.8</td>\n",
       "</tr>\n",
       "<tr>\n",
       "  <th>Df Model:</th>              <td>     1</td>      <th>                     </th>     <td> </td>   \n",
       "</tr>\n",
       "<tr>\n",
       "  <th>Covariance Type:</th>      <td>nonrobust</td>    <th>                     </th>     <td> </td>   \n",
       "</tr>\n",
       "</table>\n",
       "<table class=\"simpletable\">\n",
       "<tr>\n",
       "        <td></td>          <th>coef</th>     <th>std err</th>      <th>t</th>      <th>P>|t|</th>  <th>[0.025</th>    <th>0.975]</th>  \n",
       "</tr>\n",
       "<tr>\n",
       "  <th>Intercept</th>    <td>    6.5827</td> <td>    1.722</td> <td>    3.823</td> <td> 0.001</td> <td>    2.979</td> <td>   10.186</td>\n",
       "</tr>\n",
       "<tr>\n",
       "  <th>Sorting_Time</th> <td>    1.6490</td> <td>    0.258</td> <td>    6.387</td> <td> 0.000</td> <td>    1.109</td> <td>    2.189</td>\n",
       "</tr>\n",
       "</table>\n",
       "<table class=\"simpletable\">\n",
       "<tr>\n",
       "  <th>Omnibus:</th>       <td> 3.649</td> <th>  Durbin-Watson:     </th> <td>   1.248</td>\n",
       "</tr>\n",
       "<tr>\n",
       "  <th>Prob(Omnibus):</th> <td> 0.161</td> <th>  Jarque-Bera (JB):  </th> <td>   2.086</td>\n",
       "</tr>\n",
       "<tr>\n",
       "  <th>Skew:</th>          <td> 0.750</td> <th>  Prob(JB):          </th> <td>   0.352</td>\n",
       "</tr>\n",
       "<tr>\n",
       "  <th>Kurtosis:</th>      <td> 3.367</td> <th>  Cond. No.          </th> <td>    18.3</td>\n",
       "</tr>\n",
       "</table><br/><br/>Notes:<br/>[1] Standard Errors assume that the covariance matrix of the errors is correctly specified."
      ],
      "text/plain": [
       "<class 'statsmodels.iolib.summary.Summary'>\n",
       "\"\"\"\n",
       "                            OLS Regression Results                            \n",
       "==============================================================================\n",
       "Dep. Variable:          Delivery_Time   R-squared:                       0.682\n",
       "Model:                            OLS   Adj. R-squared:                  0.666\n",
       "Method:                 Least Squares   F-statistic:                     40.80\n",
       "Date:                Mon, 16 May 2022   Prob (F-statistic):           3.98e-06\n",
       "Time:                        19:10:01   Log-Likelihood:                -51.357\n",
       "No. Observations:                  21   AIC:                             106.7\n",
       "Df Residuals:                      19   BIC:                             108.8\n",
       "Df Model:                           1                                         \n",
       "Covariance Type:            nonrobust                                         \n",
       "================================================================================\n",
       "                   coef    std err          t      P>|t|      [0.025      0.975]\n",
       "--------------------------------------------------------------------------------\n",
       "Intercept        6.5827      1.722      3.823      0.001       2.979      10.186\n",
       "Sorting_Time     1.6490      0.258      6.387      0.000       1.109       2.189\n",
       "==============================================================================\n",
       "Omnibus:                        3.649   Durbin-Watson:                   1.248\n",
       "Prob(Omnibus):                  0.161   Jarque-Bera (JB):                2.086\n",
       "Skew:                           0.750   Prob(JB):                        0.352\n",
       "Kurtosis:                       3.367   Cond. No.                         18.3\n",
       "==============================================================================\n",
       "\n",
       "Notes:\n",
       "[1] Standard Errors assume that the covariance matrix of the errors is correctly specified.\n",
       "\"\"\""
      ]
     },
     "execution_count": 17,
     "metadata": {},
     "output_type": "execute_result"
    }
   ],
   "source": [
    "#get all results of Simple linear fit\n",
    "deliver_time_model.summary()"
   ]
  },
  {
   "cell_type": "markdown",
   "id": "d514606a",
   "metadata": {},
   "source": [
    "__Results Summary__<br>\n",
    "__beta0__  is 6.5827<br>\n",
    "__beta1__ is 1.6490<br>\n",
    "__R-Squared__ is 0.682 indicates __model is 68.2% accurate__<br>\n",
    "__Degree of freem for errors(DFResidual)__ is 19<br>\n",
    "__degree of freedom for modelel__ is 1<br>\n",
    "__P value__ is 0.00 (is less than 0.05) meaning this __is siginifcant parameter__ for Sorting_Time"
   ]
  },
  {
   "cell_type": "markdown",
   "id": "3b9ae40f",
   "metadata": {},
   "source": [
    "### <font color='red'>Accuracy</font> of the linear model is only 0.682 i.e. <font color='red'>68.2 % only</font>, we will need to apply transoformation to the model and identify which trnasformation imporves the accuracy of model."
   ]
  },
  {
   "cell_type": "code",
   "execution_count": 18,
   "id": "7fe6585c",
   "metadata": {
    "ExecuteTime": {
     "end_time": "2022-05-16T13:40:01.329324Z",
     "start_time": "2022-05-16T13:40:01.315640Z"
    }
   },
   "outputs": [
    {
     "data": {
      "text/plain": [
       "array([-0.70630355,  0.10943679,  1.11524837,  0.87774154,  2.01950985,\n",
       "       -0.383949  ,  0.2978383 , -0.69160484, -1.76255624, -0.9110735 ,\n",
       "        0.01877637, -0.82756157, -0.49264758, -0.0101515 ,  0.17043364,\n",
       "        0.5796396 , -0.92911167, -0.00540844, -0.64082979, -0.10081191,\n",
       "        2.27338512])"
      ]
     },
     "execution_count": 18,
     "metadata": {},
     "output_type": "execute_result"
    }
   ],
   "source": [
    "# calculating error (resid)  and resid_Pearson to standardize errors (convert errors to their z scores)\n",
    "deliver_time_model.resid \n",
    "deliver_time_model.resid_pearson"
   ]
  },
  {
   "cell_type": "code",
   "execution_count": 19,
   "id": "90a1ad40",
   "metadata": {
    "ExecuteTime": {
     "end_time": "2022-05-16T13:40:01.360527Z",
     "start_time": "2022-05-16T13:40:01.332502Z"
    }
   },
   "outputs": [
    {
     "data": {
      "text/plain": [
       "0     23.072933\n",
       "1     13.178814\n",
       "2     16.476853\n",
       "3     21.423913\n",
       "4     23.072933\n",
       "5     16.476853\n",
       "6     18.125873\n",
       "7     11.529794\n",
       "8     23.072933\n",
       "9     21.423913\n",
       "10    19.774893\n",
       "11    13.178814\n",
       "12    18.125873\n",
       "13    11.529794\n",
       "14    11.529794\n",
       "15    13.178814\n",
       "16    16.476853\n",
       "17    18.125873\n",
       "18     9.880774\n",
       "19    18.125873\n",
       "20    14.827833\n",
       "dtype: float64"
      ]
     },
     "execution_count": 19,
     "metadata": {},
     "output_type": "execute_result"
    }
   ],
   "source": [
    "#predicting \n",
    "linear_pred = deliver_time_model.predict(data_del_time['Sorting_Time'])\n",
    "linear_pred"
   ]
  },
  {
   "cell_type": "code",
   "execution_count": 20,
   "id": "10dc90a3",
   "metadata": {
    "ExecuteTime": {
     "end_time": "2022-05-16T13:40:01.390816Z",
     "start_time": "2022-05-16T13:40:01.365861Z"
    }
   },
   "outputs": [
    {
     "data": {
      "text/plain": [
       "2.7916503270617654"
      ]
     },
     "execution_count": 20,
     "metadata": {},
     "output_type": "execute_result"
    }
   ],
   "source": [
    "# calucate RootMeanSquareError(rmse)\n",
    "rmse_linearModel = np.sqrt(np.mean((np.array(data_del_time['Delivery_Time'])-np.array(linear_pred))**2))\n",
    "rmse_linearModel"
   ]
  },
  {
   "cell_type": "code",
   "execution_count": 21,
   "id": "2c9e4d17",
   "metadata": {
    "ExecuteTime": {
     "end_time": "2022-05-16T13:40:01.637687Z",
     "start_time": "2022-05-16T13:40:01.396756Z"
    }
   },
   "outputs": [
    {
     "data": {
      "text/plain": [
       "Text(0, 0.5, 'Delivery_Time')"
      ]
     },
     "execution_count": 21,
     "metadata": {},
     "output_type": "execute_result"
    },
    {
     "data": {
      "image/png": "[encoded data removed]",
      "text/plain": [
       "<Figure size 432x288 with 1 Axes>"
      ]
     },
     "metadata": {
      "needs_background": "light"
     },
     "output_type": "display_data"
    }
   ],
   "source": [
    "#plotting scatter plot with actual values(in red)  and predicted values(black)\n",
    "import matplotlib.pylab as plt\n",
    "plt.scatter(x=data_del_time['Sorting_Time'],y=data_del_time['Delivery_Time'],color='red')\n",
    "plt.plot(data_del_time['Sorting_Time'],linear_pred,color='black')\n",
    "plt.xlabel('Sorting_Time')\n",
    "plt.ylabel('Delivery_Time')"
   ]
  },
  {
   "cell_type": "markdown",
   "id": "e4c3ebb8",
   "metadata": {},
   "source": [
    "### Analysis till here: we have strong correlation between Sorting time and Delivery time , however we need to apply transformation to imporive model accuracy<br>\n",
    "\n",
    "Accuracy : 68.2% <br>\n",
    "RMSE_Linear: 2.7916503270617654"
   ]
  },
  {
   "cell_type": "markdown",
   "id": "8384190d",
   "metadata": {},
   "source": [
    "### Applying Transoformations to check which transformation improves accuracy"
   ]
  },
  {
   "cell_type": "markdown",
   "id": "62f71218",
   "metadata": {},
   "source": [
    "### Log Transformation"
   ]
  },
  {
   "cell_type": "code",
   "execution_count": 22,
   "id": "e316682f",
   "metadata": {
    "ExecuteTime": {
     "end_time": "2022-05-16T13:40:01.684165Z",
     "start_time": "2022-05-16T13:40:01.640952Z"
    }
   },
   "outputs": [
    {
     "data": {
      "text/html": [
       "<table class=\"simpletable\">\n",
       "<caption>OLS Regression Results</caption>\n",
       "<tr>\n",
       "  <th>Dep. Variable:</th>      <td>Delivery_Time</td>  <th>  R-squared:         </th> <td>   0.695</td>\n",
       "</tr>\n",
       "<tr>\n",
       "  <th>Model:</th>                   <td>OLS</td>       <th>  Adj. R-squared:    </th> <td>   0.679</td>\n",
       "</tr>\n",
       "<tr>\n",
       "  <th>Method:</th>             <td>Least Squares</td>  <th>  F-statistic:       </th> <td>   43.39</td>\n",
       "</tr>\n",
       "<tr>\n",
       "  <th>Date:</th>             <td>Mon, 16 May 2022</td> <th>  Prob (F-statistic):</th> <td>2.64e-06</td>\n",
       "</tr>\n",
       "<tr>\n",
       "  <th>Time:</th>                 <td>19:10:01</td>     <th>  Log-Likelihood:    </th> <td> -50.912</td>\n",
       "</tr>\n",
       "<tr>\n",
       "  <th>No. Observations:</th>      <td>    21</td>      <th>  AIC:               </th> <td>   105.8</td>\n",
       "</tr>\n",
       "<tr>\n",
       "  <th>Df Residuals:</th>          <td>    19</td>      <th>  BIC:               </th> <td>   107.9</td>\n",
       "</tr>\n",
       "<tr>\n",
       "  <th>Df Model:</th>              <td>     1</td>      <th>                     </th>     <td> </td>   \n",
       "</tr>\n",
       "<tr>\n",
       "  <th>Covariance Type:</th>      <td>nonrobust</td>    <th>                     </th>     <td> </td>   \n",
       "</tr>\n",
       "</table>\n",
       "<table class=\"simpletable\">\n",
       "<tr>\n",
       "            <td></td>              <th>coef</th>     <th>std err</th>      <th>t</th>      <th>P>|t|</th>  <th>[0.025</th>    <th>0.975]</th>  \n",
       "</tr>\n",
       "<tr>\n",
       "  <th>Intercept</th>            <td>    1.1597</td> <td>    2.455</td> <td>    0.472</td> <td> 0.642</td> <td>   -3.978</td> <td>    6.297</td>\n",
       "</tr>\n",
       "<tr>\n",
       "  <th>np.log(Sorting_Time)</th> <td>    9.0434</td> <td>    1.373</td> <td>    6.587</td> <td> 0.000</td> <td>    6.170</td> <td>   11.917</td>\n",
       "</tr>\n",
       "</table>\n",
       "<table class=\"simpletable\">\n",
       "<tr>\n",
       "  <th>Omnibus:</th>       <td> 5.552</td> <th>  Durbin-Watson:     </th> <td>   1.427</td>\n",
       "</tr>\n",
       "<tr>\n",
       "  <th>Prob(Omnibus):</th> <td> 0.062</td> <th>  Jarque-Bera (JB):  </th> <td>   3.481</td>\n",
       "</tr>\n",
       "<tr>\n",
       "  <th>Skew:</th>          <td> 0.946</td> <th>  Prob(JB):          </th> <td>   0.175</td>\n",
       "</tr>\n",
       "<tr>\n",
       "  <th>Kurtosis:</th>      <td> 3.628</td> <th>  Cond. No.          </th> <td>    9.08</td>\n",
       "</tr>\n",
       "</table><br/><br/>Notes:<br/>[1] Standard Errors assume that the covariance matrix of the errors is correctly specified."
      ],
      "text/plain": [
       "<class 'statsmodels.iolib.summary.Summary'>\n",
       "\"\"\"\n",
       "                            OLS Regression Results                            \n",
       "==============================================================================\n",
       "Dep. Variable:          Delivery_Time   R-squared:                       0.695\n",
       "Model:                            OLS   Adj. R-squared:                  0.679\n",
       "Method:                 Least Squares   F-statistic:                     43.39\n",
       "Date:                Mon, 16 May 2022   Prob (F-statistic):           2.64e-06\n",
       "Time:                        19:10:01   Log-Likelihood:                -50.912\n",
       "No. Observations:                  21   AIC:                             105.8\n",
       "Df Residuals:                      19   BIC:                             107.9\n",
       "Df Model:                           1                                         \n",
       "Covariance Type:            nonrobust                                         \n",
       "========================================================================================\n",
       "                           coef    std err          t      P>|t|      [0.025      0.975]\n",
       "----------------------------------------------------------------------------------------\n",
       "Intercept                1.1597      2.455      0.472      0.642      -3.978       6.297\n",
       "np.log(Sorting_Time)     9.0434      1.373      6.587      0.000       6.170      11.917\n",
       "==============================================================================\n",
       "Omnibus:                        5.552   Durbin-Watson:                   1.427\n",
       "Prob(Omnibus):                  0.062   Jarque-Bera (JB):                3.481\n",
       "Skew:                           0.946   Prob(JB):                        0.175\n",
       "Kurtosis:                       3.628   Cond. No.                         9.08\n",
       "==============================================================================\n",
       "\n",
       "Notes:\n",
       "[1] Standard Errors assume that the covariance matrix of the errors is correctly specified.\n",
       "\"\"\""
      ]
     },
     "execution_count": 22,
     "metadata": {},
     "output_type": "execute_result"
    }
   ],
   "source": [
    "log_model = smf.ols('Delivery_Time~np.log(Sorting_Time)',data=data_del_time).fit()\n",
    "log_model.summary()"
   ]
  },
  {
   "cell_type": "markdown",
   "id": "250b6955",
   "metadata": {},
   "source": [
    "__Results Summary__\n",
    "__beta0__ is 1.15972<br>\n",
    "__beta1__ is 9.0434<br>\n",
    "__R-Squared__ is 0.695 indicates model is 69.5% accurate which has slight improvement over simple linear model<br>\n",
    "__P value is 0.00 (is less than 0.05)__ meaning this is siginifcant parameter for Sorting_Time"
   ]
  },
  {
   "cell_type": "code",
   "execution_count": 23,
   "id": "2c8644c3",
   "metadata": {
    "ExecuteTime": {
     "end_time": "2022-05-16T13:40:01.699162Z",
     "start_time": "2022-05-16T13:40:01.687277Z"
    }
   },
   "outputs": [
    {
     "data": {
      "text/plain": [
       "array([-0.34207012, -0.06839109,  0.83061001,  1.0335774 ,  2.44206469,\n",
       "       -0.70066414,  0.08444506, -0.55504813, -1.42092236, -0.79351107,\n",
       "       -0.046959  , -1.02543743, -0.72295404,  0.14098557,  0.3254345 ,\n",
       "        0.41187217, -1.2574911 , -0.22528994,  0.19903082, -0.32273466,\n",
       "        2.01345289])"
      ]
     },
     "execution_count": 23,
     "metadata": {},
     "output_type": "execute_result"
    }
   ],
   "source": [
    "# calculating resid_Pearson to standardize errors (convert errors to their z scores)\n",
    "log_model.resid \n",
    "log_model.resid_pearson "
   ]
  },
  {
   "cell_type": "code",
   "execution_count": 24,
   "id": "56ba6d9f",
   "metadata": {
    "ExecuteTime": {
     "end_time": "2022-05-16T13:40:01.730511Z",
     "start_time": "2022-05-16T13:40:01.701814Z"
    }
   },
   "outputs": [
    {
     "data": {
      "text/plain": [
       "0     23.072933\n",
       "1     13.178814\n",
       "2     16.476853\n",
       "3     21.423913\n",
       "4     23.072933\n",
       "5     16.476853\n",
       "6     18.125873\n",
       "7     11.529794\n",
       "8     23.072933\n",
       "9     21.423913\n",
       "10    19.774893\n",
       "11    13.178814\n",
       "12    18.125873\n",
       "13    11.529794\n",
       "14    11.529794\n",
       "15    13.178814\n",
       "16    16.476853\n",
       "17    18.125873\n",
       "18     9.880774\n",
       "19    18.125873\n",
       "20    14.827833\n",
       "dtype: float64"
      ]
     },
     "execution_count": 24,
     "metadata": {},
     "output_type": "execute_result"
    }
   ],
   "source": [
    "pred_log = deliver_time_model.predict(data_del_time['Sorting_Time'])\n",
    "pred_log\n"
   ]
  },
  {
   "cell_type": "code",
   "execution_count": 25,
   "id": "5a691225",
   "metadata": {
    "ExecuteTime": {
     "end_time": "2022-05-16T13:40:01.746214Z",
     "start_time": "2022-05-16T13:40:01.732862Z"
    }
   },
   "outputs": [
    {
     "data": {
      "text/plain": [
       "2.7916503270617654"
      ]
     },
     "execution_count": 25,
     "metadata": {},
     "output_type": "execute_result"
    }
   ],
   "source": [
    "#calucalting overall error in model after log transformation\n",
    "rmse_log = np.sqrt(np.mean((np.array(data_del_time['Delivery_Time'])-np.array(pred_log))**2))\n",
    "rmse_log"
   ]
  },
  {
   "cell_type": "markdown",
   "id": "00b24769",
   "metadata": {},
   "source": [
    "### \n",
    "R-Squared: 0.695 or  69.5% <br>\n",
    "rmse_log: 2.7916503270617654 which is same as rmse of linear model calcuated earlier.\n"
   ]
  },
  {
   "cell_type": "code",
   "execution_count": 26,
   "id": "e3b31530",
   "metadata": {
    "ExecuteTime": {
     "end_time": "2022-05-16T13:40:02.010119Z",
     "start_time": "2022-05-16T13:40:01.749805Z"
    }
   },
   "outputs": [
    {
     "data": {
      "text/plain": [
       "Text(0, 0.5, 'Delivery_Time')"
      ]
     },
     "execution_count": 26,
     "metadata": {},
     "output_type": "execute_result"
    },
    {
     "data": {
      "image/png": "[encoded data removed]",
      "text/plain": [
       "<Figure size 432x288 with 1 Axes>"
      ]
     },
     "metadata": {
      "needs_background": "light"
     },
     "output_type": "display_data"
    }
   ],
   "source": [
    "#plotting scatter plot with actual values(in green)  and predicted values(black)\n",
    "import matplotlib.pylab as plt\n",
    "plt.scatter(x=data_del_time['Sorting_Time'],y=data_del_time['Delivery_Time'],color='green')\n",
    "plt.plot(data_del_time['Sorting_Time'],pred_log,color='black')\n",
    "plt.xlabel('Sorting_Time')\n",
    "plt.ylabel('Delivery_Time')"
   ]
  },
  {
   "cell_type": "markdown",
   "id": "020780ab",
   "metadata": {},
   "source": [
    "### Analysis till here: we have strong correlation between Sorting time and Delivery time , however we need to apply transformation to imporive model accuracy<br>\n",
    "R-Squared: 0.695 or 69.5%\n",
    "rmse_log: 2.7916503270617654 which is same as rmse of linear model calcuated earlier."
   ]
  },
  {
   "cell_type": "markdown",
   "id": "3252bea4",
   "metadata": {
    "ExecuteTime": {
     "end_time": "2022-05-16T13:02:47.713088Z",
     "start_time": "2022-05-16T13:02:47.701471Z"
    }
   },
   "source": [
    "### Apply Exponential transformation"
   ]
  },
  {
   "cell_type": "code",
   "execution_count": 27,
   "id": "9b20767d",
   "metadata": {
    "ExecuteTime": {
     "end_time": "2022-05-16T13:40:02.041476Z",
     "start_time": "2022-05-16T13:40:02.014679Z"
    }
   },
   "outputs": [
    {
     "data": {
      "text/html": [
       "<table class=\"simpletable\">\n",
       "<caption>OLS Regression Results</caption>\n",
       "<tr>\n",
       "  <th>Dep. Variable:</th>    <td>np.log(Delivery_Time)</td> <th>  R-squared:         </th> <td>   0.711</td>\n",
       "</tr>\n",
       "<tr>\n",
       "  <th>Model:</th>                     <td>OLS</td>          <th>  Adj. R-squared:    </th> <td>   0.696</td>\n",
       "</tr>\n",
       "<tr>\n",
       "  <th>Method:</th>               <td>Least Squares</td>     <th>  F-statistic:       </th> <td>   46.73</td>\n",
       "</tr>\n",
       "<tr>\n",
       "  <th>Date:</th>               <td>Mon, 16 May 2022</td>    <th>  Prob (F-statistic):</th> <td>1.59e-06</td>\n",
       "</tr>\n",
       "<tr>\n",
       "  <th>Time:</th>                   <td>19:10:02</td>        <th>  Log-Likelihood:    </th> <td>  7.7920</td>\n",
       "</tr>\n",
       "<tr>\n",
       "  <th>No. Observations:</th>        <td>    21</td>         <th>  AIC:               </th> <td>  -11.58</td>\n",
       "</tr>\n",
       "<tr>\n",
       "  <th>Df Residuals:</th>            <td>    19</td>         <th>  BIC:               </th> <td>  -9.495</td>\n",
       "</tr>\n",
       "<tr>\n",
       "  <th>Df Model:</th>                <td>     1</td>         <th>                     </th>     <td> </td>   \n",
       "</tr>\n",
       "<tr>\n",
       "  <th>Covariance Type:</th>        <td>nonrobust</td>       <th>                     </th>     <td> </td>   \n",
       "</tr>\n",
       "</table>\n",
       "<table class=\"simpletable\">\n",
       "<tr>\n",
       "        <td></td>          <th>coef</th>     <th>std err</th>      <th>t</th>      <th>P>|t|</th>  <th>[0.025</th>    <th>0.975]</th>  \n",
       "</tr>\n",
       "<tr>\n",
       "  <th>Intercept</th>    <td>    2.1214</td> <td>    0.103</td> <td>   20.601</td> <td> 0.000</td> <td>    1.906</td> <td>    2.337</td>\n",
       "</tr>\n",
       "<tr>\n",
       "  <th>Sorting_Time</th> <td>    0.1056</td> <td>    0.015</td> <td>    6.836</td> <td> 0.000</td> <td>    0.073</td> <td>    0.138</td>\n",
       "</tr>\n",
       "</table>\n",
       "<table class=\"simpletable\">\n",
       "<tr>\n",
       "  <th>Omnibus:</th>       <td> 1.238</td> <th>  Durbin-Watson:     </th> <td>   1.325</td>\n",
       "</tr>\n",
       "<tr>\n",
       "  <th>Prob(Omnibus):</th> <td> 0.538</td> <th>  Jarque-Bera (JB):  </th> <td>   0.544</td>\n",
       "</tr>\n",
       "<tr>\n",
       "  <th>Skew:</th>          <td> 0.393</td> <th>  Prob(JB):          </th> <td>   0.762</td>\n",
       "</tr>\n",
       "<tr>\n",
       "  <th>Kurtosis:</th>      <td> 3.067</td> <th>  Cond. No.          </th> <td>    18.3</td>\n",
       "</tr>\n",
       "</table><br/><br/>Notes:<br/>[1] Standard Errors assume that the covariance matrix of the errors is correctly specified."
      ],
      "text/plain": [
       "<class 'statsmodels.iolib.summary.Summary'>\n",
       "\"\"\"\n",
       "                              OLS Regression Results                             \n",
       "=================================================================================\n",
       "Dep. Variable:     np.log(Delivery_Time)   R-squared:                       0.711\n",
       "Model:                               OLS   Adj. R-squared:                  0.696\n",
       "Method:                    Least Squares   F-statistic:                     46.73\n",
       "Date:                   Mon, 16 May 2022   Prob (F-statistic):           1.59e-06\n",
       "Time:                           19:10:02   Log-Likelihood:                 7.7920\n",
       "No. Observations:                     21   AIC:                            -11.58\n",
       "Df Residuals:                         19   BIC:                            -9.495\n",
       "Df Model:                              1                                         \n",
       "Covariance Type:               nonrobust                                         \n",
       "================================================================================\n",
       "                   coef    std err          t      P>|t|      [0.025      0.975]\n",
       "--------------------------------------------------------------------------------\n",
       "Intercept        2.1214      0.103     20.601      0.000       1.906       2.337\n",
       "Sorting_Time     0.1056      0.015      6.836      0.000       0.073       0.138\n",
       "==============================================================================\n",
       "Omnibus:                        1.238   Durbin-Watson:                   1.325\n",
       "Prob(Omnibus):                  0.538   Jarque-Bera (JB):                0.544\n",
       "Skew:                           0.393   Prob(JB):                        0.762\n",
       "Kurtosis:                       3.067   Cond. No.                         18.3\n",
       "==============================================================================\n",
       "\n",
       "Notes:\n",
       "[1] Standard Errors assume that the covariance matrix of the errors is correctly specified.\n",
       "\"\"\""
      ]
     },
     "execution_count": 27,
     "metadata": {},
     "output_type": "execute_result"
    }
   ],
   "source": [
    "Exponential_model = smf.ols('np.log(Delivery_Time)~Sorting_Time',data=data_del_time).fit()\n",
    "Exponential_model.summary()"
   ]
  },
  {
   "cell_type": "markdown",
   "id": "c7824918",
   "metadata": {},
   "source": [
    "__Results Summary__<br>\n",
    "__beta0__  is 2.1214<br>\n",
    "__beta1__ is 0.1056<br>\n",
    "__R-Squared__ is 0.711 indicates __model is 71.1% accurate and has given better Rquared than linear and log model__<br>\n",
    "__Degree of freem for errors(DFResidual)__ is 19<br>\n",
    "__degree of freedom for modelel__ is 1<br>\n",
    "__P value__ is 0.00 (is less than 0.05) meaning this __is siginifcant parameter__ for Sorting_Time"
   ]
  },
  {
   "cell_type": "markdown",
   "id": "b827dee9",
   "metadata": {},
   "source": [
    "####  prediction after applying exponential transform will require to take exponential of Delivery time as model will predict log (Delivery time)"
   ]
  },
  {
   "cell_type": "code",
   "execution_count": 28,
   "id": "801ba76b",
   "metadata": {
    "ExecuteTime": {
     "end_time": "2022-05-16T13:40:02.057397Z",
     "start_time": "2022-05-16T13:40:02.046401Z"
    }
   },
   "outputs": [
    {
     "data": {
      "text/plain": [
       "0     23.972032\n",
       "1     12.725123\n",
       "2     15.716034\n",
       "3     21.570707\n",
       "4     23.972032\n",
       "5     15.716034\n",
       "6     17.465597\n",
       "7     11.450423\n",
       "8     23.972032\n",
       "9     21.570707\n",
       "10    19.409927\n",
       "11    12.725123\n",
       "12    17.465597\n",
       "13    11.450423\n",
       "14    11.450423\n",
       "15    12.725123\n",
       "16    15.716034\n",
       "17    17.465597\n",
       "18    10.303411\n",
       "19    17.465597\n",
       "20    14.141728\n",
       "dtype: float64"
      ]
     },
     "execution_count": 28,
     "metadata": {},
     "output_type": "execute_result"
    }
   ],
   "source": [
    "# prediction\n",
    "exponential_model_interim_prediction=Exponential_model.predict(data_del_time['Sorting_Time'])\n",
    "# taking exponential of predicted values\n",
    "exponential_model_predict=np.exp(exponential_model_interim_prediction)\n",
    "exponential_model_predict"
   ]
  },
  {
   "cell_type": "code",
   "execution_count": 29,
   "id": "56e0fb08",
   "metadata": {
    "ExecuteTime": {
     "end_time": "2022-05-16T13:40:02.073273Z",
     "start_time": "2022-05-16T13:40:02.060607Z"
    }
   },
   "outputs": [],
   "source": [
    "# calcualting resid and reside_pearson\n"
   ]
  },
  {
   "cell_type": "code",
   "execution_count": 30,
   "id": "31cd307a",
   "metadata": {
    "ExecuteTime": {
     "end_time": "2022-05-16T13:40:02.089045Z",
     "start_time": "2022-05-16T13:40:02.075356Z"
    }
   },
   "outputs": [
    {
     "data": {
      "text/plain": [
       "array([-0.75408795,  0.33675889,  1.3016092 ,  0.60797197,  1.08475764,\n",
       "       -0.13425573,  0.47972269, -1.06383166, -1.66402537, -0.79839415,\n",
       "        0.12198057, -0.9609301 , -0.26219179,  0.02461332,  0.28130094,\n",
       "        0.89124014, -0.7613643 ,  0.20640995, -1.44153627,  0.11763994,\n",
       "        2.38661208])"
      ]
     },
     "execution_count": 30,
     "metadata": {},
     "output_type": "execute_result"
    }
   ],
   "source": [
    "Exponential_model.resid\n",
    "Exponential_model.resid_pearson"
   ]
  },
  {
   "cell_type": "code",
   "execution_count": 31,
   "id": "94b9830d",
   "metadata": {
    "ExecuteTime": {
     "end_time": "2022-05-16T13:40:02.106432Z",
     "start_time": "2022-05-16T13:40:02.094411Z"
    }
   },
   "outputs": [
    {
     "data": {
      "text/plain": [
       "2.9402503230562007"
      ]
     },
     "execution_count": 31,
     "metadata": {},
     "output_type": "execute_result"
    }
   ],
   "source": [
    "# calcualte over error of exponential model\n",
    "rmse_exponential=np.sqrt(np.mean((np.array(data_del_time['Delivery_Time'])-np.array(exponential_model_predict))**2))\n",
    "rmse_exponential"
   ]
  },
  {
   "cell_type": "code",
   "execution_count": 32,
   "id": "a1d69c2b",
   "metadata": {
    "ExecuteTime": {
     "end_time": "2022-05-16T13:40:02.291480Z",
     "start_time": "2022-05-16T13:40:02.110643Z"
    }
   },
   "outputs": [
    {
     "data": {
      "text/plain": [
       "Text(0, 0.5, 'Delivery_Time')"
      ]
     },
     "execution_count": 32,
     "metadata": {},
     "output_type": "execute_result"
    },
    {
     "data": {
      "image/png": "[encoded data removed]",
      "text/plain": [
       "<Figure size 432x288 with 1 Axes>"
      ]
     },
     "metadata": {
      "needs_background": "light"
     },
     "output_type": "display_data"
    }
   ],
   "source": [
    "#plotting scatter plot with actual values(in Brown)  and predicted values(black)\n",
    "import matplotlib.pylab as plt\n",
    "plt.scatter(x=data_del_time['Sorting_Time'],y=data_del_time['Delivery_Time'],color='Brown')\n",
    "plt.plot(data_del_time['Sorting_Time'],exponential_model_predict,color='black')\n",
    "plt.xlabel('Sorting_Time')\n",
    "plt.ylabel('Delivery_Time')"
   ]
  },
  {
   "cell_type": "markdown",
   "id": "ff025d79",
   "metadata": {},
   "source": [
    "### Analysis till here: we have strong correlation between Sorting time and Delivery time , this model has shown better accuracy of 71.1 % however rmse has gone up slightly to 2.9402503230562007 from 2.7916503270617654"
   ]
  },
  {
   "cell_type": "markdown",
   "id": "0f8ea4f6",
   "metadata": {},
   "source": [
    "### Apply mix mode model ie mixing exponential model and squared model"
   ]
  },
  {
   "cell_type": "code",
   "execution_count": 33,
   "id": "1a4b2522",
   "metadata": {
    "ExecuteTime": {
     "end_time": "2022-05-16T13:40:02.321720Z",
     "start_time": "2022-05-16T13:40:02.295120Z"
    }
   },
   "outputs": [
    {
     "data": {
      "text/html": [
       "<div>\n",
       "<style scoped>\n",
       "    .dataframe tbody tr th:only-of-type {\n",
       "        vertical-align: middle;\n",
       "    }\n",
       "\n",
       "    .dataframe tbody tr th {\n",
       "        vertical-align: top;\n",
       "    }\n",
       "\n",
       "    .dataframe thead th {\n",
       "        text-align: right;\n",
       "    }\n",
       "</style>\n",
       "<table border=\"1\" class=\"dataframe\">\n",
       "  <thead>\n",
       "    <tr style=\"text-align: right;\">\n",
       "      <th></th>\n",
       "      <th>Delivery_Time</th>\n",
       "      <th>Sorting_Time</th>\n",
       "      <th>Sorting_Time_Squared</th>\n",
       "    </tr>\n",
       "  </thead>\n",
       "  <tbody>\n",
       "    <tr>\n",
       "      <th>0</th>\n",
       "      <td>21.00</td>\n",
       "      <td>10</td>\n",
       "      <td>100</td>\n",
       "    </tr>\n",
       "    <tr>\n",
       "      <th>1</th>\n",
       "      <td>13.50</td>\n",
       "      <td>4</td>\n",
       "      <td>16</td>\n",
       "    </tr>\n",
       "    <tr>\n",
       "      <th>2</th>\n",
       "      <td>19.75</td>\n",
       "      <td>6</td>\n",
       "      <td>36</td>\n",
       "    </tr>\n",
       "    <tr>\n",
       "      <th>3</th>\n",
       "      <td>24.00</td>\n",
       "      <td>9</td>\n",
       "      <td>81</td>\n",
       "    </tr>\n",
       "    <tr>\n",
       "      <th>4</th>\n",
       "      <td>29.00</td>\n",
       "      <td>10</td>\n",
       "      <td>100</td>\n",
       "    </tr>\n",
       "  </tbody>\n",
       "</table>\n",
       "</div>"
      ],
      "text/plain": [
       "   Delivery_Time  Sorting_Time  Sorting_Time_Squared\n",
       "0          21.00            10                   100\n",
       "1          13.50             4                    16\n",
       "2          19.75             6                    36\n",
       "3          24.00             9                    81\n",
       "4          29.00            10                   100"
      ]
     },
     "execution_count": 33,
     "metadata": {},
     "output_type": "execute_result"
    }
   ],
   "source": [
    "# adding Sorting_Time_Squared to dataset this column shall carry squared values of Sorting_Time\n",
    "data_del_time['Sorting_Time_Squared']=data_del_time['Sorting_Time']**2\n",
    "data_del_time.head()"
   ]
  },
  {
   "cell_type": "code",
   "execution_count": 34,
   "id": "2fa57595",
   "metadata": {
    "ExecuteTime": {
     "end_time": "2022-05-16T13:40:02.337648Z",
     "start_time": "2022-05-16T13:40:02.323699Z"
    }
   },
   "outputs": [],
   "source": [
    "# build quad model\n",
    "quad_model=smf.ols('np.log(Delivery_Time)~Sorting_Time+Sorting_Time_Squared',data=data_del_time).fit()"
   ]
  },
  {
   "cell_type": "code",
   "execution_count": 35,
   "id": "79843760",
   "metadata": {
    "ExecuteTime": {
     "end_time": "2022-05-16T13:40:02.445401Z",
     "start_time": "2022-05-16T13:40:02.342348Z"
    }
   },
   "outputs": [
    {
     "data": {
      "text/html": [
       "<table class=\"simpletable\">\n",
       "<caption>OLS Regression Results</caption>\n",
       "<tr>\n",
       "  <th>Dep. Variable:</th>    <td>np.log(Delivery_Time)</td> <th>  R-squared:         </th> <td>   0.765</td>\n",
       "</tr>\n",
       "<tr>\n",
       "  <th>Model:</th>                     <td>OLS</td>          <th>  Adj. R-squared:    </th> <td>   0.739</td>\n",
       "</tr>\n",
       "<tr>\n",
       "  <th>Method:</th>               <td>Least Squares</td>     <th>  F-statistic:       </th> <td>   29.28</td>\n",
       "</tr>\n",
       "<tr>\n",
       "  <th>Date:</th>               <td>Mon, 16 May 2022</td>    <th>  Prob (F-statistic):</th> <td>2.20e-06</td>\n",
       "</tr>\n",
       "<tr>\n",
       "  <th>Time:</th>                   <td>19:10:02</td>        <th>  Log-Likelihood:    </th> <td>  9.9597</td>\n",
       "</tr>\n",
       "<tr>\n",
       "  <th>No. Observations:</th>        <td>    21</td>         <th>  AIC:               </th> <td>  -13.92</td>\n",
       "</tr>\n",
       "<tr>\n",
       "  <th>Df Residuals:</th>            <td>    18</td>         <th>  BIC:               </th> <td>  -10.79</td>\n",
       "</tr>\n",
       "<tr>\n",
       "  <th>Df Model:</th>                <td>     2</td>         <th>                     </th>     <td> </td>   \n",
       "</tr>\n",
       "<tr>\n",
       "  <th>Covariance Type:</th>        <td>nonrobust</td>       <th>                     </th>     <td> </td>   \n",
       "</tr>\n",
       "</table>\n",
       "<table class=\"simpletable\">\n",
       "<tr>\n",
       "            <td></td>              <th>coef</th>     <th>std err</th>      <th>t</th>      <th>P>|t|</th>  <th>[0.025</th>    <th>0.975]</th>  \n",
       "</tr>\n",
       "<tr>\n",
       "  <th>Intercept</th>            <td>    1.6997</td> <td>    0.228</td> <td>    7.441</td> <td> 0.000</td> <td>    1.220</td> <td>    2.180</td>\n",
       "</tr>\n",
       "<tr>\n",
       "  <th>Sorting_Time</th>         <td>    0.2659</td> <td>    0.080</td> <td>    3.315</td> <td> 0.004</td> <td>    0.097</td> <td>    0.434</td>\n",
       "</tr>\n",
       "<tr>\n",
       "  <th>Sorting_Time_Squared</th> <td>   -0.0128</td> <td>    0.006</td> <td>   -2.032</td> <td> 0.057</td> <td>   -0.026</td> <td>    0.000</td>\n",
       "</tr>\n",
       "</table>\n",
       "<table class=\"simpletable\">\n",
       "<tr>\n",
       "  <th>Omnibus:</th>       <td> 2.548</td> <th>  Durbin-Watson:     </th> <td>   1.369</td>\n",
       "</tr>\n",
       "<tr>\n",
       "  <th>Prob(Omnibus):</th> <td> 0.280</td> <th>  Jarque-Bera (JB):  </th> <td>   1.777</td>\n",
       "</tr>\n",
       "<tr>\n",
       "  <th>Skew:</th>          <td> 0.708</td> <th>  Prob(JB):          </th> <td>   0.411</td>\n",
       "</tr>\n",
       "<tr>\n",
       "  <th>Kurtosis:</th>      <td> 2.846</td> <th>  Cond. No.          </th> <td>    373.</td>\n",
       "</tr>\n",
       "</table><br/><br/>Notes:<br/>[1] Standard Errors assume that the covariance matrix of the errors is correctly specified."
      ],
      "text/plain": [
       "<class 'statsmodels.iolib.summary.Summary'>\n",
       "\"\"\"\n",
       "                              OLS Regression Results                             \n",
       "=================================================================================\n",
       "Dep. Variable:     np.log(Delivery_Time)   R-squared:                       0.765\n",
       "Model:                               OLS   Adj. R-squared:                  0.739\n",
       "Method:                    Least Squares   F-statistic:                     29.28\n",
       "Date:                   Mon, 16 May 2022   Prob (F-statistic):           2.20e-06\n",
       "Time:                           19:10:02   Log-Likelihood:                 9.9597\n",
       "No. Observations:                     21   AIC:                            -13.92\n",
       "Df Residuals:                         18   BIC:                            -10.79\n",
       "Df Model:                              2                                         \n",
       "Covariance Type:               nonrobust                                         \n",
       "========================================================================================\n",
       "                           coef    std err          t      P>|t|      [0.025      0.975]\n",
       "----------------------------------------------------------------------------------------\n",
       "Intercept                1.6997      0.228      7.441      0.000       1.220       2.180\n",
       "Sorting_Time             0.2659      0.080      3.315      0.004       0.097       0.434\n",
       "Sorting_Time_Squared    -0.0128      0.006     -2.032      0.057      -0.026       0.000\n",
       "==============================================================================\n",
       "Omnibus:                        2.548   Durbin-Watson:                   1.369\n",
       "Prob(Omnibus):                  0.280   Jarque-Bera (JB):                1.777\n",
       "Skew:                           0.708   Prob(JB):                        0.411\n",
       "Kurtosis:                       2.846   Cond. No.                         373.\n",
       "==============================================================================\n",
       "\n",
       "Notes:\n",
       "[1] Standard Errors assume that the covariance matrix of the errors is correctly specified.\n",
       "\"\"\""
      ]
     },
     "execution_count": 35,
     "metadata": {},
     "output_type": "execute_result"
    }
   ],
   "source": [
    "quad_model.summary()"
   ]
  },
  {
   "cell_type": "markdown",
   "id": "1cc4a90f",
   "metadata": {},
   "source": [
    "__Results Summary__<br>\n",
    "__beta0__  is 1.6997<br>\n",
    "__beta1__ is 0.2659<br>\n",
    "__beta2__ is -0.0128<br>\n",
    "__R-Squared__ is 0.765 indicates __model is 76.5% accurate and has given better Rquared than linear and log  and Exponential model<br>\n",
    "__Degree of freem for errors(DFResidual)__ is 18<br>\n",
    "__degree of freedom for modelel__ is 1<br>\n",
    "__P value Beta 1(Sorting_Time)__ is 0.004 (less than 0.05)  this is siginificant variable to predict Delivery time<br>\n",
    "__P value Beta 2(Sorting_Time_Squared)__ is 0.057 (slightly over 0.05, still siginificant variable to predict Delviery Time"
   ]
  },
  {
   "cell_type": "code",
   "execution_count": 36,
   "id": "962a697e",
   "metadata": {
    "ExecuteTime": {
     "end_time": "2022-05-16T13:40:02.476624Z",
     "start_time": "2022-05-16T13:40:02.448971Z"
    }
   },
   "outputs": [
    {
     "data": {
      "text/plain": [
       "0     21.646921\n",
       "1     12.909227\n",
       "2     16.995933\n",
       "3     21.176938\n",
       "4     21.646921\n",
       "5     16.995933\n",
       "6     18.764526\n",
       "7     10.825502\n",
       "8     21.646921\n",
       "9     21.176938\n",
       "10    20.191891\n",
       "11    12.909227\n",
       "12    18.764526\n",
       "13    10.825502\n",
       "14    10.825502\n",
       "15    12.909227\n",
       "16    16.995933\n",
       "17    18.764526\n",
       "18     8.847949\n",
       "19    18.764526\n",
       "20    15.003730\n",
       "dtype: float64"
      ]
     },
     "execution_count": 36,
     "metadata": {},
     "output_type": "execute_result"
    }
   ],
   "source": [
    "# predicting values,also we need to take exponential for value predicted by model\n",
    "quad_model_predict_intermediate=quad_model.predict(data_del_time)\n",
    "quad_model_predict=np.exp(quad_model_predict_intermediate)\n",
    "quad_model_predict"
   ]
  },
  {
   "cell_type": "code",
   "execution_count": 37,
   "id": "edb13987",
   "metadata": {
    "ExecuteTime": {
     "end_time": "2022-05-16T13:40:02.508284Z",
     "start_time": "2022-05-16T13:40:02.491585Z"
    }
   },
   "outputs": [],
   "source": [
    "#calucation resid and resid_pearson\n"
   ]
  },
  {
   "cell_type": "code",
   "execution_count": 38,
   "id": "f3b27b20",
   "metadata": {
    "ExecuteTime": {
     "end_time": "2022-05-16T13:40:02.538363Z",
     "start_time": "2022-05-16T13:40:02.514960Z"
    }
   },
   "outputs": [
    {
     "data": {
      "text/plain": [
       "array([-0.18653701,  0.27510944,  0.92331151,  0.76937448,  1.79789238,\n",
       "       -0.62623272,  0.0766711 , -0.80301506, -1.16851536, -0.74833548,\n",
       "       -0.11118848, -1.12531927, -0.72398172,  0.37160353,  0.64861345,\n",
       "        0.8734897 , -1.3029903 , -0.21828016, -0.61938087, -0.31407821,\n",
       "        2.21178906])"
      ]
     },
     "execution_count": 38,
     "metadata": {},
     "output_type": "execute_result"
    }
   ],
   "source": [
    "quad_model.resid\n",
    "quad_model.resid_pearson"
   ]
  },
  {
   "cell_type": "code",
   "execution_count": 39,
   "id": "61364344",
   "metadata": {
    "ExecuteTime": {
     "end_time": "2022-05-16T13:40:02.554582Z",
     "start_time": "2022-05-16T13:40:02.541711Z"
    }
   },
   "outputs": [
    {
     "data": {
      "text/plain": [
       "2.799041988740927"
      ]
     },
     "execution_count": 39,
     "metadata": {},
     "output_type": "execute_result"
    }
   ],
   "source": [
    "# overall error in quad_model\n",
    "rmse_quad=np.sqrt(np.mean((np.array(data_del_time['Delivery_Time'])-np.array(quad_model_predict))**2))\n",
    "rmse_quad"
   ]
  },
  {
   "cell_type": "code",
   "execution_count": 60,
   "id": "71549db1",
   "metadata": {
    "ExecuteTime": {
     "end_time": "2022-05-16T13:52:27.733500Z",
     "start_time": "2022-05-16T13:52:27.538351Z"
    }
   },
   "outputs": [
    {
     "data": {
      "text/plain": [
       "Text(0, 0.5, 'Delivery_Time')"
      ]
     },
     "execution_count": 60,
     "metadata": {},
     "output_type": "execute_result"
    },
    {
     "data": {
      "image/png": "[encoded data removed]",
      "text/plain": [
       "<Figure size 432x288 with 1 Axes>"
      ]
     },
     "metadata": {
      "needs_background": "light"
     },
     "output_type": "display_data"
    }
   ],
   "source": [
    "#plotting scatter plot with actual values(in Brown)  and predicted values(black)\n",
    "import matplotlib.pylab as plt\n",
    "plt.scatter(x=data_del_time['Sorting_Time'],y=data_del_time['Delivery_Time'],color='Orange')\n",
    "plt.plot(data_del_time['Sorting_Time'],quad_model_predict,color='black')\n",
    "plt.xlabel('Sorting_Time')\n",
    "plt.ylabel('Delivery_Time')"
   ]
  },
  {
   "cell_type": "markdown",
   "id": "6b36cc7e",
   "metadata": {},
   "source": [
    "### this model has given accurcy of 76.5% with overall error as 2.799041988740927 \n"
   ]
  },
  {
   "cell_type": "code",
   "execution_count": 56,
   "id": "5db4213a",
   "metadata": {
    "ExecuteTime": {
     "end_time": "2022-05-16T13:47:41.724127Z",
     "start_time": "2022-05-16T13:47:41.715278Z"
    }
   },
   "outputs": [],
   "source": [
    "# compare all four models\n",
    "data={'Model':pd.Series(['linearModel without Transformation','Log Transformation', 'Exponential Transformation','Mix Match Transformation']),\n",
    "     'RMSE Value':pd.Series([rmse_linearModel,rmse_log,rmse_exponential,rmse_quad]),\n",
    "     'R Squared':pd.Series([deliver_time_model.rsquared,log_model.rsquared,Exponential_model.rsquared,quad_model.rsquared])}"
   ]
  },
  {
   "cell_type": "code",
   "execution_count": 61,
   "id": "8b427590",
   "metadata": {
    "ExecuteTime": {
     "end_time": "2022-05-16T13:52:30.868107Z",
     "start_time": "2022-05-16T13:52:30.843250Z"
    }
   },
   "outputs": [
    {
     "data": {
      "text/html": [
       "<div>\n",
       "<style scoped>\n",
       "    .dataframe tbody tr th:only-of-type {\n",
       "        vertical-align: middle;\n",
       "    }\n",
       "\n",
       "    .dataframe tbody tr th {\n",
       "        vertical-align: top;\n",
       "    }\n",
       "\n",
       "    .dataframe thead th {\n",
       "        text-align: right;\n",
       "    }\n",
       "</style>\n",
       "<table border=\"1\" class=\"dataframe\">\n",
       "  <thead>\n",
       "    <tr style=\"text-align: right;\">\n",
       "      <th></th>\n",
       "      <th>Model</th>\n",
       "      <th>RMSE Value</th>\n",
       "      <th>R Squared</th>\n",
       "    </tr>\n",
       "  </thead>\n",
       "  <tbody>\n",
       "    <tr>\n",
       "      <th>0</th>\n",
       "      <td>linearModel without Transformation</td>\n",
       "      <td>2.791650</td>\n",
       "      <td>0.682271</td>\n",
       "    </tr>\n",
       "    <tr>\n",
       "      <th>1</th>\n",
       "      <td>Log Transformation</td>\n",
       "      <td>2.791650</td>\n",
       "      <td>0.695443</td>\n",
       "    </tr>\n",
       "    <tr>\n",
       "      <th>2</th>\n",
       "      <td>Exponential Transformation</td>\n",
       "      <td>2.940250</td>\n",
       "      <td>0.710948</td>\n",
       "    </tr>\n",
       "    <tr>\n",
       "      <th>3</th>\n",
       "      <td>Mix Match Transformation</td>\n",
       "      <td>2.799042</td>\n",
       "      <td>0.764867</td>\n",
       "    </tr>\n",
       "  </tbody>\n",
       "</table>\n",
       "</div>"
      ],
      "text/plain": [
       "                                Model  RMSE Value  R Squared\n",
       "0  linearModel without Transformation    2.791650   0.682271\n",
       "1                  Log Transformation    2.791650   0.695443\n",
       "2          Exponential Transformation    2.940250   0.710948\n",
       "3            Mix Match Transformation    2.799042   0.764867"
      ]
     },
     "execution_count": 61,
     "metadata": {},
     "output_type": "execute_result"
    }
   ],
   "source": [
    "table=pd.DataFrame(data)\n",
    "table"
   ]
  },
  {
   "cell_type": "markdown",
   "id": "9b98bb16",
   "metadata": {
    "ExecuteTime": {
     "end_time": "2022-05-16T13:49:41.945069Z",
     "start_time": "2022-05-16T13:49:41.933130Z"
    }
   },
   "source": [
    "### from above table we observer that Mix Match model gives best R quared of 76.4% and error is less than Exponential model and similar to Log and model without trnasformaiton. So we cross verify Mix Match transformation."
   ]
  },
  {
   "cell_type": "markdown",
   "id": "d2726956",
   "metadata": {},
   "source": [
    "#### cross verify the best model from above table using standarized error of model, itshould follow the rule: <br>\n",
    "1. mean should be around 0\n",
    "2. aproximate constant variation"
   ]
  },
  {
   "cell_type": "code",
   "execution_count": 68,
   "id": "0a607844",
   "metadata": {
    "ExecuteTime": {
     "end_time": "2022-05-16T13:57:28.298327Z",
     "start_time": "2022-05-16T13:57:28.071824Z"
    }
   },
   "outputs": [
    {
     "data": {
      "text/plain": [
       "Text(0, 0.5, 'Standard residual')"
      ]
     },
     "execution_count": 68,
     "metadata": {},
     "output_type": "execute_result"
    },
    {
     "data": {
      "image/png": "[encoded data removed]",
      "text/plain": [
       "<Figure size 432x288 with 1 Axes>"
      ]
     },
     "metadata": {
      "needs_background": "light"
     },
     "output_type": "display_data"
    }
   ],
   "source": [
    "plt.scatter(np.arange(21),quad_model.resid_pearson)\n",
    "plt.axhline(y=0,color=\"Red\")\n",
    "plt.xlabel('Observation Number')\n",
    "plt.ylabel('Standard residual')"
   ]
  },
  {
   "cell_type": "code",
   "execution_count": 70,
   "id": "68cb09d1",
   "metadata": {
    "ExecuteTime": {
     "end_time": "2022-05-16T13:57:47.176324Z",
     "start_time": "2022-05-16T13:57:46.984781Z"
    }
   },
   "outputs": [
    {
     "data": {
      "text/plain": [
       "Text(0, 0.5, 'Standard residual')"
      ]
     },
     "execution_count": 70,
     "metadata": {},
     "output_type": "execute_result"
    },
    {
     "data": {
      "image/png": "[encoded data removed]",
      "text/plain": [
       "<Figure size 432x288 with 1 Axes>"
      ]
     },
     "metadata": {
      "needs_background": "light"
     },
     "output_type": "display_data"
    }
   ],
   "source": [
    "plt.hist(quad_model.resid_pearson)\n",
    "\n",
    "plt.xlabel('Observation Number')\n",
    "plt.ylabel('Standard residual')"
   ]
  },
  {
   "cell_type": "markdown",
   "id": "d4c32f17",
   "metadata": {},
   "source": [
    "### The above graph shows the mean is near 0 and variance is aproximately constant with outliers."
   ]
  },
  {
   "cell_type": "markdown",
   "id": "68a59536",
   "metadata": {},
   "source": [
    "__<hr style=\"border:0.5px solid Blue\">__<br>"
   ]
  },
  {
   "cell_type": "markdown",
   "id": "68952982",
   "metadata": {},
   "source": [
    " ## II Salary_hike -> Build a prediction model for Salary_hike"
   ]
  },
  {
   "cell_type": "code",
   "execution_count": 72,
   "id": "bc1b4208",
   "metadata": {
    "ExecuteTime": {
     "end_time": "2022-05-16T14:01:33.517158Z",
     "start_time": "2022-05-16T14:01:33.470097Z"
    }
   },
   "outputs": [],
   "source": [
    "# reading salaries data\n",
    "data_salary=pd.read_csv(\"Salary_Data.csv\")"
   ]
  },
  {
   "cell_type": "markdown",
   "id": "b0301752",
   "metadata": {},
   "source": [
    "#### Data explore to understand basics of data"
   ]
  },
  {
   "cell_type": "code",
   "execution_count": 73,
   "id": "c48a2e3a",
   "metadata": {
    "ExecuteTime": {
     "end_time": "2022-05-16T14:01:34.717678Z",
     "start_time": "2022-05-16T14:01:34.682830Z"
    }
   },
   "outputs": [
    {
     "data": {
      "text/html": [
       "<div>\n",
       "<style scoped>\n",
       "    .dataframe tbody tr th:only-of-type {\n",
       "        vertical-align: middle;\n",
       "    }\n",
       "\n",
       "    .dataframe tbody tr th {\n",
       "        vertical-align: top;\n",
       "    }\n",
       "\n",
       "    .dataframe thead th {\n",
       "        text-align: right;\n",
       "    }\n",
       "</style>\n",
       "<table border=\"1\" class=\"dataframe\">\n",
       "  <thead>\n",
       "    <tr style=\"text-align: right;\">\n",
       "      <th></th>\n",
       "      <th>YearsExperience</th>\n",
       "      <th>Salary</th>\n",
       "    </tr>\n",
       "  </thead>\n",
       "  <tbody>\n",
       "    <tr>\n",
       "      <th>0</th>\n",
       "      <td>1.1</td>\n",
       "      <td>39343.0</td>\n",
       "    </tr>\n",
       "    <tr>\n",
       "      <th>1</th>\n",
       "      <td>1.3</td>\n",
       "      <td>46205.0</td>\n",
       "    </tr>\n",
       "    <tr>\n",
       "      <th>2</th>\n",
       "      <td>1.5</td>\n",
       "      <td>37731.0</td>\n",
       "    </tr>\n",
       "    <tr>\n",
       "      <th>3</th>\n",
       "      <td>2.0</td>\n",
       "      <td>43525.0</td>\n",
       "    </tr>\n",
       "    <tr>\n",
       "      <th>4</th>\n",
       "      <td>2.2</td>\n",
       "      <td>39891.0</td>\n",
       "    </tr>\n",
       "  </tbody>\n",
       "</table>\n",
       "</div>"
      ],
      "text/plain": [
       "   YearsExperience   Salary\n",
       "0              1.1  39343.0\n",
       "1              1.3  46205.0\n",
       "2              1.5  37731.0\n",
       "3              2.0  43525.0\n",
       "4              2.2  39891.0"
      ]
     },
     "execution_count": 73,
     "metadata": {},
     "output_type": "execute_result"
    }
   ],
   "source": [
    "data_salary.head()"
   ]
  },
  {
   "cell_type": "markdown",
   "id": "18f800b4",
   "metadata": {},
   "source": [
    "#### Dataset has two columns YearsExperience and Salary, we need to build simple liner model to predict salary hike based on yearsExperience"
   ]
  },
  {
   "cell_type": "code",
   "execution_count": 74,
   "id": "e7cd56e4",
   "metadata": {
    "ExecuteTime": {
     "end_time": "2022-05-16T14:01:36.168115Z",
     "start_time": "2022-05-16T14:01:36.149069Z"
    }
   },
   "outputs": [
    {
     "data": {
      "text/plain": [
       "(30, 2)"
      ]
     },
     "execution_count": 74,
     "metadata": {},
     "output_type": "execute_result"
    }
   ],
   "source": [
    "# data shape to check number of rows and coulms\n",
    "data_salary.shape"
   ]
  },
  {
   "cell_type": "markdown",
   "id": "6d9dfd72",
   "metadata": {
    "ExecuteTime": {
     "end_time": "2022-05-15T18:35:22.610224Z",
     "start_time": "2022-05-15T18:35:22.596965Z"
    }
   },
   "source": [
    "#### dataset has 30 rows and 2 columns"
   ]
  },
  {
   "cell_type": "code",
   "execution_count": 75,
   "id": "34113e5c",
   "metadata": {
    "ExecuteTime": {
     "end_time": "2022-05-16T14:01:37.333930Z",
     "start_time": "2022-05-16T14:01:37.319288Z"
    }
   },
   "outputs": [
    {
     "name": "stdout",
     "output_type": "stream",
     "text": [
      "<class 'pandas.core.frame.DataFrame'>\n",
      "RangeIndex: 30 entries, 0 to 29\n",
      "Data columns (total 2 columns):\n",
      " #   Column           Non-Null Count  Dtype  \n",
      "---  ------           --------------  -----  \n",
      " 0   YearsExperience  30 non-null     float64\n",
      " 1   Salary           30 non-null     float64\n",
      "dtypes: float64(2)\n",
      "memory usage: 608.0 bytes\n"
     ]
    }
   ],
   "source": [
    "# getting basic info on data\n",
    "data_salary.info()"
   ]
  },
  {
   "cell_type": "markdown",
   "id": "92559109",
   "metadata": {
    "ExecuteTime": {
     "end_time": "2022-05-15T18:36:21.231918Z",
     "start_time": "2022-05-15T18:36:21.222099Z"
    }
   },
   "source": [
    "#### there are no null values and both columns have data types as float"
   ]
  },
  {
   "cell_type": "code",
   "execution_count": 76,
   "id": "5635a4f3",
   "metadata": {
    "ExecuteTime": {
     "end_time": "2022-05-16T14:01:38.300297Z",
     "start_time": "2022-05-16T14:01:38.271087Z"
    }
   },
   "outputs": [
    {
     "data": {
      "text/html": [
       "<div>\n",
       "<style scoped>\n",
       "    .dataframe tbody tr th:only-of-type {\n",
       "        vertical-align: middle;\n",
       "    }\n",
       "\n",
       "    .dataframe tbody tr th {\n",
       "        vertical-align: top;\n",
       "    }\n",
       "\n",
       "    .dataframe thead th {\n",
       "        text-align: right;\n",
       "    }\n",
       "</style>\n",
       "<table border=\"1\" class=\"dataframe\">\n",
       "  <thead>\n",
       "    <tr style=\"text-align: right;\">\n",
       "      <th></th>\n",
       "      <th>YearsExperience</th>\n",
       "      <th>Salary</th>\n",
       "    </tr>\n",
       "  </thead>\n",
       "  <tbody>\n",
       "    <tr>\n",
       "      <th>count</th>\n",
       "      <td>30.000000</td>\n",
       "      <td>30.000000</td>\n",
       "    </tr>\n",
       "    <tr>\n",
       "      <th>mean</th>\n",
       "      <td>5.313333</td>\n",
       "      <td>76003.000000</td>\n",
       "    </tr>\n",
       "    <tr>\n",
       "      <th>std</th>\n",
       "      <td>2.837888</td>\n",
       "      <td>27414.429785</td>\n",
       "    </tr>\n",
       "    <tr>\n",
       "      <th>min</th>\n",
       "      <td>1.100000</td>\n",
       "      <td>37731.000000</td>\n",
       "    </tr>\n",
       "    <tr>\n",
       "      <th>25%</th>\n",
       "      <td>3.200000</td>\n",
       "      <td>56720.750000</td>\n",
       "    </tr>\n",
       "    <tr>\n",
       "      <th>50%</th>\n",
       "      <td>4.700000</td>\n",
       "      <td>65237.000000</td>\n",
       "    </tr>\n",
       "    <tr>\n",
       "      <th>75%</th>\n",
       "      <td>7.700000</td>\n",
       "      <td>100544.750000</td>\n",
       "    </tr>\n",
       "    <tr>\n",
       "      <th>max</th>\n",
       "      <td>10.500000</td>\n",
       "      <td>122391.000000</td>\n",
       "    </tr>\n",
       "  </tbody>\n",
       "</table>\n",
       "</div>"
      ],
      "text/plain": [
       "       YearsExperience         Salary\n",
       "count        30.000000      30.000000\n",
       "mean          5.313333   76003.000000\n",
       "std           2.837888   27414.429785\n",
       "min           1.100000   37731.000000\n",
       "25%           3.200000   56720.750000\n",
       "50%           4.700000   65237.000000\n",
       "75%           7.700000  100544.750000\n",
       "max          10.500000  122391.000000"
      ]
     },
     "execution_count": 76,
     "metadata": {},
     "output_type": "execute_result"
    }
   ],
   "source": [
    "# getting statistical info on data\n",
    "data_salary.describe()"
   ]
  },
  {
   "cell_type": "markdown",
   "id": "94189172",
   "metadata": {},
   "source": [
    "##### statistical information we get:<br>\n",
    "__for YearsExperience__<br>\n",
    "- 1st quartile: 3.2\n",
    "- 3rd quartile: 7.7\n",
    "- Min value: 1.1\n",
    "- Max value: 10.5\n",
    "- mean: 5.31\n",
    "- std: 2.84\n",
    "<br>\n",
    "\n",
    "__for Salary__<br>\n",
    "- 1st quartile: 56720.75\n",
    "- 3rd quartile: 100544.75\n",
    "- Min value: 37731.00\n",
    "- Max value: 122391.00\n",
    "- mean:76003.00\n",
    "- std: 27414.43"
   ]
  },
  {
   "cell_type": "code",
   "execution_count": 77,
   "id": "ca489635",
   "metadata": {
    "ExecuteTime": {
     "end_time": "2022-05-16T14:01:40.088046Z",
     "start_time": "2022-05-16T14:01:39.895306Z"
    }
   },
   "outputs": [
    {
     "data": {
      "text/plain": [
       "Text(0, 0.5, 'Salary')"
      ]
     },
     "execution_count": 77,
     "metadata": {},
     "output_type": "execute_result"
    },
    {
     "data": {
      "image/png": "[encoded data removed]",
      "text/plain": [
       "<Figure size 432x288 with 1 Axes>"
      ]
     },
     "metadata": {
      "needs_background": "light"
     },
     "output_type": "display_data"
    }
   ],
   "source": [
    "# creating scatter plot to see if there is any linear relation between Sorting time and Delivery time\n",
    "#importing matplot library\n",
    "import matplotlib.pyplot as plt\n",
    "\n",
    "plt.plot(data_salary['YearsExperience'], data_salary['Salary'], \"bo\")\n",
    "plt.xlabel(\"YearsExperience\")\n",
    "plt.ylabel(\"Salary\")"
   ]
  },
  {
   "cell_type": "markdown",
   "id": "859b9e3a",
   "metadata": {},
   "source": [
    "#### The scatter plot shows there is +VE linear relation between yearsEperience and Salary i.e. with increase in experience salry increases. Thus its correlation expected to be positive"
   ]
  },
  {
   "cell_type": "code",
   "execution_count": 78,
   "id": "89f9c85b",
   "metadata": {
    "ExecuteTime": {
     "end_time": "2022-05-16T14:01:42.780403Z",
     "start_time": "2022-05-16T14:01:42.760668Z"
    }
   },
   "outputs": [
    {
     "data": {
      "text/html": [
       "<div>\n",
       "<style scoped>\n",
       "    .dataframe tbody tr th:only-of-type {\n",
       "        vertical-align: middle;\n",
       "    }\n",
       "\n",
       "    .dataframe tbody tr th {\n",
       "        vertical-align: top;\n",
       "    }\n",
       "\n",
       "    .dataframe thead th {\n",
       "        text-align: right;\n",
       "    }\n",
       "</style>\n",
       "<table border=\"1\" class=\"dataframe\">\n",
       "  <thead>\n",
       "    <tr style=\"text-align: right;\">\n",
       "      <th></th>\n",
       "      <th>YearsExperience</th>\n",
       "      <th>Salary</th>\n",
       "    </tr>\n",
       "  </thead>\n",
       "  <tbody>\n",
       "    <tr>\n",
       "      <th>YearsExperience</th>\n",
       "      <td>1.000000</td>\n",
       "      <td>0.978242</td>\n",
       "    </tr>\n",
       "    <tr>\n",
       "      <th>Salary</th>\n",
       "      <td>0.978242</td>\n",
       "      <td>1.000000</td>\n",
       "    </tr>\n",
       "  </tbody>\n",
       "</table>\n",
       "</div>"
      ],
      "text/plain": [
       "                 YearsExperience    Salary\n",
       "YearsExperience         1.000000  0.978242\n",
       "Salary                  0.978242  1.000000"
      ]
     },
     "execution_count": 78,
     "metadata": {},
     "output_type": "execute_result"
    }
   ],
   "source": [
    "# check correlation\n",
    "data_salary.corr()"
   ]
  },
  {
   "cell_type": "markdown",
   "id": "55898043",
   "metadata": {},
   "source": [
    "#### Correlation between yearsExperience and Salary is +0.97.8 i.e. 97.8%, a strong positive correlation between the fields."
   ]
  },
  {
   "cell_type": "markdown",
   "id": "b4d546d1",
   "metadata": {},
   "source": [
    "### Check more on data using distirbution plot from seaborn"
   ]
  },
  {
   "cell_type": "code",
   "execution_count": 79,
   "id": "a476e338",
   "metadata": {
    "ExecuteTime": {
     "end_time": "2022-05-16T14:01:47.218640Z",
     "start_time": "2022-05-16T14:01:47.005215Z"
    }
   },
   "outputs": [
    {
     "name": "stderr",
     "output_type": "stream",
     "text": [
      "C:\\Users\\DELL\\anaconda3\\lib\\site-packages\\seaborn\\distributions.py:2619: FutureWarning: `distplot` is a deprecated function and will be removed in a future version. Please adapt your code to use either `displot` (a figure-level function with similar flexibility) or `histplot` (an axes-level function for histograms).\n",
      "  warnings.warn(msg, FutureWarning)\n"
     ]
    },
    {
     "data": {
      "text/plain": [
       "<AxesSubplot:xlabel='YearsExperience', ylabel='Density'>"
      ]
     },
     "execution_count": 79,
     "metadata": {},
     "output_type": "execute_result"
    },
    {
     "data": {
      "image/png": "[encoded data removed]",
      "text/plain": [
       "<Figure size 432x288 with 1 Axes>"
      ]
     },
     "metadata": {
      "needs_background": "light"
     },
     "output_type": "display_data"
    }
   ],
   "source": [
    "sns.distplot(data_salary['YearsExperience'])"
   ]
  },
  {
   "cell_type": "code",
   "execution_count": 80,
   "id": "b7629283",
   "metadata": {
    "ExecuteTime": {
     "end_time": "2022-05-16T14:01:48.199890Z",
     "start_time": "2022-05-16T14:01:48.017931Z"
    }
   },
   "outputs": [
    {
     "name": "stderr",
     "output_type": "stream",
     "text": [
      "C:\\Users\\DELL\\anaconda3\\lib\\site-packages\\seaborn\\distributions.py:2619: FutureWarning: `distplot` is a deprecated function and will be removed in a future version. Please adapt your code to use either `displot` (a figure-level function with similar flexibility) or `histplot` (an axes-level function for histograms).\n",
      "  warnings.warn(msg, FutureWarning)\n"
     ]
    },
    {
     "data": {
      "text/plain": [
       "<AxesSubplot:xlabel='Salary', ylabel='Density'>"
      ]
     },
     "execution_count": 80,
     "metadata": {},
     "output_type": "execute_result"
    },
    {
     "data": {
      "image/png": "[encoded data removed]",
      "text/plain": [
       "<Figure size 432x288 with 1 Axes>"
      ]
     },
     "metadata": {
      "needs_background": "light"
     },
     "output_type": "display_data"
    }
   ],
   "source": [
    "sns.distplot(data_salary['Salary'])"
   ]
  },
  {
   "cell_type": "markdown",
   "id": "03c0402a",
   "metadata": {},
   "source": [
    "__Fitting a Linear Regression Model__"
   ]
  },
  {
   "cell_type": "code",
   "execution_count": 81,
   "id": "bc23359c",
   "metadata": {
    "ExecuteTime": {
     "end_time": "2022-05-16T14:01:51.731253Z",
     "start_time": "2022-05-16T14:01:51.710794Z"
    }
   },
   "outputs": [],
   "source": [
    "salary_hike_model = smf.ols(\"Salary~YearsExperience\",data = data_salary).fit()"
   ]
  },
  {
   "cell_type": "code",
   "execution_count": 82,
   "id": "89f79b61",
   "metadata": {
    "ExecuteTime": {
     "end_time": "2022-05-16T14:01:52.926030Z",
     "start_time": "2022-05-16T14:01:52.639663Z"
    }
   },
   "outputs": [
    {
     "data": {
      "text/plain": [
       "<AxesSubplot:xlabel='YearsExperience', ylabel='Salary'>"
      ]
     },
     "execution_count": 82,
     "metadata": {},
     "output_type": "execute_result"
    },
    {
     "data": {
      "image/png": "[encoded data removed]",
      "text/plain": [
       "<Figure size 432x288 with 1 Axes>"
      ]
     },
     "metadata": {
      "needs_background": "light"
     },
     "output_type": "display_data"
    }
   ],
   "source": [
    "#creating regression plot\n",
    "\n",
    "sns.regplot(x=\"YearsExperience\", y=\"Salary\", data=data_salary)"
   ]
  },
  {
   "cell_type": "markdown",
   "id": "e0ce628d",
   "metadata": {},
   "source": [
    "#### The Regression plot shows there is strong +ve linear relation between yearsEperience and Salary i.e. with increase in experience salry increases. Thus its correlation expected to be positive"
   ]
  },
  {
   "cell_type": "code",
   "execution_count": 84,
   "id": "5aeb6d55",
   "metadata": {
    "ExecuteTime": {
     "end_time": "2022-05-16T14:02:04.136474Z",
     "start_time": "2022-05-16T14:02:04.105423Z"
    }
   },
   "outputs": [
    {
     "data": {
      "text/html": [
       "<table class=\"simpletable\">\n",
       "<caption>OLS Regression Results</caption>\n",
       "<tr>\n",
       "  <th>Dep. Variable:</th>         <td>Salary</td>      <th>  R-squared:         </th> <td>   0.957</td>\n",
       "</tr>\n",
       "<tr>\n",
       "  <th>Model:</th>                   <td>OLS</td>       <th>  Adj. R-squared:    </th> <td>   0.955</td>\n",
       "</tr>\n",
       "<tr>\n",
       "  <th>Method:</th>             <td>Least Squares</td>  <th>  F-statistic:       </th> <td>   622.5</td>\n",
       "</tr>\n",
       "<tr>\n",
       "  <th>Date:</th>             <td>Mon, 16 May 2022</td> <th>  Prob (F-statistic):</th> <td>1.14e-20</td>\n",
       "</tr>\n",
       "<tr>\n",
       "  <th>Time:</th>                 <td>19:32:04</td>     <th>  Log-Likelihood:    </th> <td> -301.44</td>\n",
       "</tr>\n",
       "<tr>\n",
       "  <th>No. Observations:</th>      <td>    30</td>      <th>  AIC:               </th> <td>   606.9</td>\n",
       "</tr>\n",
       "<tr>\n",
       "  <th>Df Residuals:</th>          <td>    28</td>      <th>  BIC:               </th> <td>   609.7</td>\n",
       "</tr>\n",
       "<tr>\n",
       "  <th>Df Model:</th>              <td>     1</td>      <th>                     </th>     <td> </td>   \n",
       "</tr>\n",
       "<tr>\n",
       "  <th>Covariance Type:</th>      <td>nonrobust</td>    <th>                     </th>     <td> </td>   \n",
       "</tr>\n",
       "</table>\n",
       "<table class=\"simpletable\">\n",
       "<tr>\n",
       "         <td></td>            <th>coef</th>     <th>std err</th>      <th>t</th>      <th>P>|t|</th>  <th>[0.025</th>    <th>0.975]</th>  \n",
       "</tr>\n",
       "<tr>\n",
       "  <th>Intercept</th>       <td> 2.579e+04</td> <td> 2273.053</td> <td>   11.347</td> <td> 0.000</td> <td> 2.11e+04</td> <td> 3.04e+04</td>\n",
       "</tr>\n",
       "<tr>\n",
       "  <th>YearsExperience</th> <td> 9449.9623</td> <td>  378.755</td> <td>   24.950</td> <td> 0.000</td> <td> 8674.119</td> <td> 1.02e+04</td>\n",
       "</tr>\n",
       "</table>\n",
       "<table class=\"simpletable\">\n",
       "<tr>\n",
       "  <th>Omnibus:</th>       <td> 2.140</td> <th>  Durbin-Watson:     </th> <td>   1.648</td>\n",
       "</tr>\n",
       "<tr>\n",
       "  <th>Prob(Omnibus):</th> <td> 0.343</td> <th>  Jarque-Bera (JB):  </th> <td>   1.569</td>\n",
       "</tr>\n",
       "<tr>\n",
       "  <th>Skew:</th>          <td> 0.363</td> <th>  Prob(JB):          </th> <td>   0.456</td>\n",
       "</tr>\n",
       "<tr>\n",
       "  <th>Kurtosis:</th>      <td> 2.147</td> <th>  Cond. No.          </th> <td>    13.2</td>\n",
       "</tr>\n",
       "</table><br/><br/>Notes:<br/>[1] Standard Errors assume that the covariance matrix of the errors is correctly specified."
      ],
      "text/plain": [
       "<class 'statsmodels.iolib.summary.Summary'>\n",
       "\"\"\"\n",
       "                            OLS Regression Results                            \n",
       "==============================================================================\n",
       "Dep. Variable:                 Salary   R-squared:                       0.957\n",
       "Model:                            OLS   Adj. R-squared:                  0.955\n",
       "Method:                 Least Squares   F-statistic:                     622.5\n",
       "Date:                Mon, 16 May 2022   Prob (F-statistic):           1.14e-20\n",
       "Time:                        19:32:04   Log-Likelihood:                -301.44\n",
       "No. Observations:                  30   AIC:                             606.9\n",
       "Df Residuals:                      28   BIC:                             609.7\n",
       "Df Model:                           1                                         \n",
       "Covariance Type:            nonrobust                                         \n",
       "===================================================================================\n",
       "                      coef    std err          t      P>|t|      [0.025      0.975]\n",
       "-----------------------------------------------------------------------------------\n",
       "Intercept        2.579e+04   2273.053     11.347      0.000    2.11e+04    3.04e+04\n",
       "YearsExperience  9449.9623    378.755     24.950      0.000    8674.119    1.02e+04\n",
       "==============================================================================\n",
       "Omnibus:                        2.140   Durbin-Watson:                   1.648\n",
       "Prob(Omnibus):                  0.343   Jarque-Bera (JB):                1.569\n",
       "Skew:                           0.363   Prob(JB):                        0.456\n",
       "Kurtosis:                       2.147   Cond. No.                         13.2\n",
       "==============================================================================\n",
       "\n",
       "Notes:\n",
       "[1] Standard Errors assume that the covariance matrix of the errors is correctly specified.\n",
       "\"\"\""
      ]
     },
     "execution_count": 84,
     "metadata": {},
     "output_type": "execute_result"
    }
   ],
   "source": [
    "#get all results of Simple linear fit\n",
    "salary_hike_model.summary()"
   ]
  },
  {
   "cell_type": "markdown",
   "id": "1bb30c2c",
   "metadata": {},
   "source": [
    "__Results Summary__<br>\n",
    "__beta0__  is 2579<br>\n",
    "__beta1__ is 9449.96<br>\n",
    "__R-Squared__ is 0.957 indicates __model is 95.7% accurate__<br>\n",
    "__Degree of freem for errors(DFResidual)__ is 28<br>\n",
    "__degree of freedom for model__ is 1<br>\n",
    "__P value__ is 0.00 (is less than 0.05) meaning this __is siginifcant parameter__ for Sorting_Time"
   ]
  },
  {
   "cell_type": "markdown",
   "id": "a28aee7f",
   "metadata": {},
   "source": [
    "# Predict for new data point"
   ]
  },
  {
   "cell_type": "code",
   "execution_count": 85,
   "id": "b1a973f8",
   "metadata": {
    "ExecuteTime": {
     "end_time": "2022-05-16T14:02:10.143233Z",
     "start_time": "2022-05-16T14:02:10.127726Z"
    }
   },
   "outputs": [],
   "source": [
    "#Predict value of salray based on model\n",
    "salary_predict_data=salary_hike_model.predict(data_salary['YearsExperience'])"
   ]
  },
  {
   "cell_type": "code",
   "execution_count": 86,
   "id": "8d379ca4",
   "metadata": {
    "ExecuteTime": {
     "end_time": "2022-05-16T14:02:25.873760Z",
     "start_time": "2022-05-16T14:02:25.856226Z"
    }
   },
   "outputs": [
    {
     "data": {
      "text/plain": [
       "0      36187.158752\n",
       "1      38077.151217\n",
       "2      39967.143681\n",
       "3      44692.124842\n",
       "4      46582.117306\n",
       "5      53197.090931\n",
       "6      54142.087163\n",
       "7      56032.079627\n",
       "8      56032.079627\n",
       "9      60757.060788\n",
       "10     62647.053252\n",
       "11     63592.049484\n",
       "12     63592.049484\n",
       "13     64537.045717\n",
       "14     68317.030645\n",
       "15     72097.015574\n",
       "16     73987.008038\n",
       "17     75877.000502\n",
       "18     81546.977895\n",
       "19     82491.974127\n",
       "20     90051.943985\n",
       "21     92886.932681\n",
       "22    100446.902538\n",
       "23    103281.891235\n",
       "24    108006.872395\n",
       "25    110841.861092\n",
       "26    115566.842252\n",
       "27    116511.838485\n",
       "28    123126.812110\n",
       "29    125016.804574\n",
       "dtype: float64"
      ]
     },
     "execution_count": 86,
     "metadata": {},
     "output_type": "execute_result"
    }
   ],
   "source": [
    "salary_predict_data"
   ]
  },
  {
   "cell_type": "code",
   "execution_count": 88,
   "id": "52cc7c67",
   "metadata": {
    "ExecuteTime": {
     "end_time": "2022-05-16T14:04:02.966907Z",
     "start_time": "2022-05-16T14:04:02.950014Z"
    }
   },
   "outputs": [
    {
     "data": {
      "text/plain": [
       "5592.043608760662"
      ]
     },
     "execution_count": 88,
     "metadata": {},
     "output_type": "execute_result"
    }
   ],
   "source": [
    "# calculate overall error for model\n",
    "rmse=np.sqrt(np.mean((np.array(data_salary['Salary'])-np.array(salary_predict_data))**2))\n",
    "rmse"
   ]
  },
  {
   "cell_type": "markdown",
   "id": "89062d64",
   "metadata": {},
   "source": [
    "### the Squared is 95.7% however error is 5592.043608760662, we need not apply any transformation on this model as this only reduce error which may not have any significance."
   ]
  },
  {
   "cell_type": "code",
   "execution_count": null,
   "id": "f3d132aa",
   "metadata": {},
   "outputs": [],
   "source": []
  }
 ],
 "metadata": {
  "kernelspec": {
   "display_name": "Python 3 (ipykernel)",
   "language": "python",
   "name": "python3"
  },
  "language_info": {
   "codemirror_mode": {
    "name": "ipython",
    "version": 3
   },
   "file_extension": ".py",
   "mimetype": "text/x-python",
   "name": "python",
   "nbconvert_exporter": "python",
   "pygments_lexer": "ipython3",
   "version": "3.9.7"
  }
 },
 "nbformat": 4,
 "nbformat_minor": 5
}
